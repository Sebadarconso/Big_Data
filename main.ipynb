{
 "cells": [
  {
   "cell_type": "markdown",
   "metadata": {},
   "source": [
    "# Project Overview: Sentiment Analysis on TripAdvisor Hotel Reviews\n",
    "\n",
    "In this project, we focus on conducting Sentiment Analysis on hotel reviews sourced from TripAdvisor. The dataset used can be accessed [here](https://notebook.community/melqkiades/yelp/notebooks/TripAdvisor-Datasets).\n",
    "\n",
    "## Project Pipeline:\n",
    "\n",
    "1. **Data Preprocessing with MapReduce:**\n",
    "   - We employ a MapReduce job for data preprocessing. This step involves aggregating hotel reviews based on their unique identifiers provided in the dataset.\n",
    "   - All reviews corresponding to each hotel are merged under their respective identifiers to form a consolidated review dataset for each hotel.\n",
    "\n",
    "2. **Hotel Evaluation:**\n",
    "   - Post-aggregation, our objective is to identify the best hotels by analyzing two key metrics:\n",
    "     - **Average Ratings:** Calculated from the collected review data.\n",
    "     - **Sentiment Scores:** Derived from our Sentiment Analysis on the reviews.\n",
    "     - **Other Measures:** That might involve the number of reviews and the sentiment score from the classifier.\n",
    "  \n",
    "3. **Data Filtering for Significance:**\n",
    "   - To enhance computational efficiency and ensure meaningful results, we filter the dataset to include only hotels with more than 3,000 reviews. This threshold helps in avoiding skewed or insignificant data from hotels with fewer reviews.\n",
    "\n",
    "4. **Ablative studies**:\n",
    " - We also implemented our own sentiment analysis model using PySpark ML to test this powerful library.\n",
    "\n",
    "This approach allows us to effectively assess and rank hotels based on a combination of quantitative ratings and qualitative sentiment scores from user reviews."
   ]
  },
  {
   "cell_type": "markdown",
   "metadata": {},
   "source": [
    "## Imports"
   ]
  },
  {
   "cell_type": "code",
   "execution_count": 1,
   "metadata": {},
   "outputs": [],
   "source": [
    "import shutil\n",
    "import time\n",
    "import json \n",
    "import os \n",
    "import re\n",
    "import csv \n",
    "\n",
    "import plotly.express as px\n",
    "import pandas as pd \n",
    "import numpy as np \n",
    "\n",
    "from pyspark import SparkContext, SparkConf\n",
    "from flair.models import TextClassifier\n",
    "from flair.data import Sentence \n",
    "from tqdm import tqdm\n",
    "import torch\n",
    "\n",
    "classifier = TextClassifier.load('en-sentiment')\n",
    "score_to_value = {'NEGATIVE': 0, 'NEUTRAL': 1, 'POSITIVE': 2}  "
   ]
  },
  {
   "cell_type": "markdown",
   "metadata": {},
   "source": [
    "## Map function"
   ]
  },
  {
   "cell_type": "code",
   "execution_count": 2,
   "metadata": {},
   "outputs": [],
   "source": [
    "def map_function(reviews):    \n",
    "    values_extracted = []\n",
    "    \n",
    "    reviews = dict(reviews)\n",
    "    hotel_id = reviews['offering_id']\n",
    "    ratings = reviews['ratings']\n",
    "    review = reviews['text']\n",
    "    key = hotel_id\n",
    "\n",
    "    avg_ratings = sum(ratings.values())/len(ratings)\n",
    "    values_extracted.append(avg_ratings)\n",
    "    values_extracted.append(review)\n",
    "    \n",
    "    return [(key, values_extracted)]"
   ]
  },
  {
   "cell_type": "markdown",
   "metadata": {},
   "source": [
    "## Reduce function "
   ]
  },
  {
   "cell_type": "code",
   "execution_count": 3,
   "metadata": {},
   "outputs": [],
   "source": [
    "def reduce_function(value1, value2):\n",
    "    rating = (value1[0] + value2[0]) / 2\n",
    "    reviews_total = value1[1] + ' ******* ' + value2[1]\n",
    "\n",
    "    return (rating, reviews_total)"
   ]
  },
  {
   "cell_type": "markdown",
   "metadata": {},
   "source": [
    "### JSON parser function"
   ]
  },
  {
   "cell_type": "code",
   "execution_count": 4,
   "metadata": {},
   "outputs": [],
   "source": [
    "def parse_json(line):\n",
    "    \"\"\"\n",
    "    Parse a JSON string into a Python dictionary.\n",
    "    \"\"\"\n",
    "    try:\n",
    "        return json.loads(line)\n",
    "    except json.JSONDecodeError:\n",
    "        return None"
   ]
  },
  {
   "cell_type": "markdown",
   "metadata": {},
   "source": [
    "## MapReduce job"
   ]
  },
  {
   "cell_type": "code",
   "execution_count": 5,
   "metadata": {},
   "outputs": [
    {
     "name": "stdout",
     "output_type": "stream",
     "text": [
      "**************************************************\n",
      "Initializing Spark context...\n",
      "\n"
     ]
    },
    {
     "name": "stderr",
     "output_type": "stream",
     "text": [
      "Setting default log level to \"WARN\".\n",
      "To adjust logging level use sc.setLogLevel(newLevel). For SparkR, use setLogLevel(newLevel).\n",
      "24/06/13 12:19:55 WARN NativeCodeLoader: Unable to load native-hadoop library for your platform... using builtin-java classes where applicable\n"
     ]
    },
    {
     "name": "stdout",
     "output_type": "stream",
     "text": [
      "**************************************************\n",
      "Reading input data from review.txt...\n",
      "\n",
      "Removed existing directory output_data...\n",
      "\n",
      "**************************************************\n",
      "Saving Resilient Distributed Dataset (RDD) to disk...\n",
      "\n"
     ]
    },
    {
     "name": "stderr",
     "output_type": "stream",
     "text": [
      "                                                                                \r"
     ]
    },
    {
     "name": "stdout",
     "output_type": "stream",
     "text": [
      "**************************************************\n",
      "Stopping Spark context...\n",
      "\n",
      "Done.\n",
      "Time taken: 12.85 seconds.\n",
      "\n"
     ]
    }
   ],
   "source": [
    "# Initialize Spark context\n",
    "start = time.time()\n",
    "print(\"*\"*50)\n",
    "print(\"Initializing Spark context...\\n\")\n",
    "conf = SparkConf().setAppName(\"MapReduce\")\n",
    "sc = SparkContext(conf=conf)\n",
    "\n",
    "# Load input data\n",
    "input_path = \"review.txt\" \n",
    "# input_path = \"test.txt\" \n",
    "\n",
    "print(\"*\"*50)\n",
    "print(f\"Reading input data from {input_path}...\\n\")\n",
    "# Read the text file as an RDD\n",
    "rdd = sc.textFile(input_path)\n",
    "\n",
    "# Parse each JSON string into a Python dictionary\n",
    "json_rdd = sc.textFile(input_path)\n",
    "\n",
    "# Parse each JSON string into a Python dictionary\n",
    "parsed_rdd = json_rdd.map(lambda line: json.loads(line))\n",
    "\n",
    "# Map transformation\n",
    "mapped_rdd = parsed_rdd.flatMap(map_function)\n",
    "\n",
    "# Reduce transformation\n",
    "reduced_rdd = mapped_rdd.reduceByKey(reduce_function)\n",
    "output_path = \"output_data\" \n",
    "\n",
    "# Check if directory exists\n",
    "if os.path.exists(output_path):\n",
    "    shutil.rmtree(output_path)\n",
    "    print(f\"Removed existing directory {output_path}...\\n\")\n",
    "\n",
    "print(\"*\"*50)\n",
    "print(\"Saving Resilient Distributed Dataset (RDD) to disk...\\n\")\n",
    "# Save the output data\n",
    "reduced_rdd.saveAsTextFile(output_path)\n",
    "\n",
    "# Stop SparkContext\n",
    "print(\"*\"*50)\n",
    "print(\"Stopping Spark context...\\n\")\n",
    "sc.stop()\n",
    "end = time.time()\n",
    "print(\"Done.\")\n",
    "print(f\"Time taken: {round(end - start, 2)} seconds.\\n\")"
   ]
  },
  {
   "cell_type": "markdown",
   "metadata": {},
   "source": [
    "## Additional functions"
   ]
  },
  {
   "cell_type": "code",
   "execution_count": 6,
   "metadata": {},
   "outputs": [],
   "source": [
    "def parse_line(line):\n",
    "    # Strip any leading/trailing whitespace\n",
    "    line = line.strip()\n",
    "    \n",
    "    # Remove the outer parentheses from the line\n",
    "    line = line[1:-1]\n",
    "    line = line.replace(\"[\", \"\")\n",
    "    line = line.replace(\"]\", \"\")\n",
    "\n",
    "    # Split the line at the comma to separate the id from the rest\n",
    "    id, rating, review = line.split(\", \", 2)\n",
    "    \n",
    "    id.replace(\"(\", \"\")\n",
    "\n",
    "    # Convert id_part to an integer\n",
    "    numerical_id = int(id)\n",
    "    \n",
    "    \n",
    "    # Convert float_part to a float\n",
    "    rating = rating.strip(\"(\")\n",
    "    try:\n",
    "        float_number = float(rating)\n",
    "    except ValueError:\n",
    "        print(f\"Error: Could not convert {rating} to a float., id = {numerical_id}\")\n",
    "    \n",
    "    # Remove the surrounding quotes from the review part\n",
    "    review_string = review.strip(\"'\").strip(')')\n",
    "\n",
    "\n",
    "    # Return the numerical ID, float number, and review string as a tuple\n",
    "    return numerical_id, (float_number, review_string)\n",
    "\n",
    "def read_file_and_extract_data(file_path):\n",
    "    data_dict = {}\n",
    "    \n",
    "    # Open the file and read each line\n",
    "    with open(file_path, 'r') as file:\n",
    "        for line in file:\n",
    "            # Parse each line\n",
    "            numerical_id, value_tuple  = parse_line(line)\n",
    "            \n",
    "            # Store the parsed data in the dictionary\n",
    "            data_dict[numerical_id] = value_tuple\n",
    "    \n",
    "    # Return the dictionary containing the extracted data\n",
    "    return data_dict\n",
    "\n",
    "def write_data_dict_to_file(data_dict, output_file_path):\n",
    "    # Open the output file in write mode\n",
    "    with open(output_file_path, 'a') as file:\n",
    "        # Iterate over each key-value pair in the dictionary\n",
    "        for numerical_id, value_tuple in data_dict.items():\n",
    "\n",
    "            float_number, review_string = value_tuple\n",
    "            line = f\"{numerical_id}, ({float_number}, '{review_string}')\\n\"\n",
    "            \n",
    "            # Write the formatted line to the file\n",
    "            file.write(line)"
   ]
  },
  {
   "cell_type": "code",
   "execution_count": 8,
   "metadata": {},
   "outputs": [
    {
     "name": "stdout",
     "output_type": "stream",
     "text": [
      "Part files found: 35\n"
     ]
    }
   ],
   "source": [
    "def find_part_files(directory):\n",
    "    # Define the pattern to match part files (e.g., \"part-00000\" to \"part-00034\")\n",
    "    pattern = re.compile(r\"part-000[0-3][0-9]$\")\n",
    "\n",
    "    # List to hold the part files\n",
    "    part_files = []\n",
    "\n",
    "    # Iterate through each file in the directory\n",
    "    for file_name in os.listdir(directory):\n",
    "        # Check if the file name matches the pattern\n",
    "        if pattern.match(file_name):\n",
    "            # Add the file name to the list\n",
    "            part_files.append(file_name)\n",
    "    \n",
    "    return part_files\n",
    "\n",
    "directory_path = \"/Users/sebastianodarconso/Desktop/università/magistrale_progetti/big_data_final/output_data\"  \n",
    "\n",
    "# Find the part files in the specified directory\n",
    "part_files = find_part_files(directory_path)\n",
    "part_files = sorted(part_files)\n",
    "\n",
    "# Print the list of part files\n",
    "print(f\"Part files found: {len(part_files)}\")"
   ]
  },
  {
   "cell_type": "markdown",
   "metadata": {},
   "source": [
    "## Merge all files"
   ]
  },
  {
   "cell_type": "code",
   "execution_count": 8,
   "metadata": {},
   "outputs": [
    {
     "name": "stdout",
     "output_type": "stream",
     "text": [
      "Removed existing directory merged_data.txt...\n",
      "Merging all files...\n",
      "\n"
     ]
    },
    {
     "name": "stderr",
     "output_type": "stream",
     "text": [
      "100%|██████████| 35/35 [00:02<00:00, 13.40it/s]\n"
     ]
    }
   ],
   "source": [
    "output_file_path = \"merged_data.txt\"\n",
    "\n",
    "if os.path.exists(output_file_path):\n",
    "    os.remove(output_file_path)\n",
    "    print(f\"Removed existing directory {output_file_path}...\")\n",
    "\n",
    "print(\"Merging all files...\\n\")\n",
    "for file in tqdm(part_files):\n",
    "    file_path = \"/Users/sebastianodarconso/Desktop/università/magistrale_progetti/big_data_final/output_data/\"\n",
    "    file_path = file_path + file\n",
    "    try:\n",
    "        data = read_file_and_extract_data(file_path)\n",
    "    except Exception as e:\n",
    "        print(f\"Error reading file {file_path}: {e}\")\n",
    "    write_data_dict_to_file(data, output_file_path)"
   ]
  },
  {
   "cell_type": "code",
   "execution_count": 9,
   "metadata": {},
   "outputs": [
    {
     "name": "stdout",
     "output_type": "stream",
     "text": [
      "We found 3945 hotels.\n"
     ]
    }
   ],
   "source": [
    "lines = 0\n",
    "with open('merged_data.txt', 'r') as file:\n",
    "    text = file.readlines()\n",
    "    for line in text:\n",
    "        lines += 1\n",
    "\n",
    "print(f\"We found {lines} hotels.\")"
   ]
  },
  {
   "cell_type": "code",
   "execution_count": 10,
   "metadata": {},
   "outputs": [],
   "source": [
    "def extract_info(line):\n",
    "    id_hotel = line.split(',', 1)[0].replace('(', '').strip().replace(\"'\", '')\n",
    "    rating = line.split(',', 2)[1].replace('(', '').strip().replace(\"'\", '')\n",
    "    line = line.split(',', 2)[2].replace('\"', '').strip()\n",
    "    line = line.replace(\"'\", '').strip()\n",
    "    reviews = line.split(' ******* ')\n",
    "    num_rews = len(reviews)\t \n",
    "\n",
    "    return id_hotel, rating, num_rews, reviews"
   ]
  },
  {
   "cell_type": "code",
   "execution_count": 11,
   "metadata": {},
   "outputs": [],
   "source": [
    "import math\n",
    "\n",
    "# Given values\n",
    "def n_sample_size(N):\n",
    "    Z = 1.96  # Z-score for 95% confidence\n",
    "    E = 0.05  # Margin of error (5%)\n",
    "    p = 0.5   # Expected proportion\n",
    "\n",
    "    # Sample size formula for finite population\n",
    "    n = (N * Z**2 * p * (1 - p)) / ((E**2 * (N - 1)) + (Z**2 * p * (1 - p)))\n",
    "    n = math.ceil(n)  # Always round up to the next whole number\n",
    "\n",
    "    return n"
   ]
  },
  {
   "cell_type": "markdown",
   "metadata": {},
   "source": [
    "## Sentiment analysis"
   ]
  },
  {
   "cell_type": "code",
   "execution_count": null,
   "metadata": {},
   "outputs": [],
   "source": [
    "# import random \n",
    "\n",
    "# line_dict = {}\n",
    "# review_sentiments = []\n",
    "# reviewd_hotels = []\n",
    "# with open('merged_data.txt', 'r') as file:\n",
    "# \tlines = file.readlines()\n",
    "\n",
    "# \tfor line in tqdm(lines):\n",
    "# \t\tid_hotel, rating, num_rews, reviews = extract_info(line)\n",
    "# \t\tif num_rews < 1000:\n",
    "# \t\t\tcontinue\n",
    "\t\t\n",
    "# \t\treviewd_hotels.append(id_hotel)\n",
    "\n",
    "# \t\tsentiments = []\n",
    "# \t\tsentiment_scores = []\n",
    "# \t\tfor review in random.sample(reviews, n_sample_size(num_rews)):\n",
    "# \t\t\tif review == '':\n",
    "# \t\t\t\tcontinue\n",
    "\t\t\t\n",
    "# \t\t\tsentence = Sentence(review)\n",
    "# \t\t\tclassifier.predict(sentence)\n",
    "\t\t\t\n",
    "# \t\t\tsentiment = sentence.labels[0].value\n",
    "# \t\t\tsentiment_score = sentence.labels[0].score\n",
    "\n",
    "# \t\t\tsentiments.append(score_to_value[sentiment] * sentiment_score)\n",
    "# \t\t\tsentiment_scores.append(sentiment_score)\n",
    "\n",
    "# \t\t\treview_sentiments.append((review, sentiment, sentiment_score))\n",
    "\t\t\n",
    "# \t\tavg_sentiment = np.mean(sentiments)\n",
    "# \t\tavg_sentiment_score = np.mean(sentiment_scores)\n",
    "\t\t\n",
    "# \t\tline_dict[id_hotel] = (\tround(avg_sentiment, 4), \n",
    "# \t\t\t\t\t\t \t\tround(float(rating), 4), \n",
    "# \t\t\t\t\t\t\t\tround((avg_sentiment/2.0) * 5.0, 4), \n",
    "# \t\t\t\t\t\t\t\tround(avg_sentiment_score, 4), num_rews)\n",
    "\t\t\n",
    "\n",
    "# with open('review_sentiments.csv', 'w', newline='') as csvfile:\n",
    "# \tcsvwriter = csv.writer(csvfile)\n",
    "# \tcsvwriter.writerow(['Review', 'Sentiment', 'Sentiment Score'])\n",
    "# \tfor review, sentiment, sentiment_score in review_sentiments:\n",
    "# \t\tcsvwriter.writerow([review, score_to_value[sentiment], round(sentiment_score, 4)])\n"
   ]
  },
  {
   "cell_type": "code",
   "execution_count": null,
   "metadata": {},
   "outputs": [],
   "source": [
    "# df = pd.DataFrame.from_dict(line_dict, orient='index', columns=['avg_sentiment', 'avg_rating', 'final_score', 'avg_sentiment_score', 'num_reviews'])\n",
    "# df['hotel_id'] = df.index\n",
    "# df = df[['hotel_id', 'avg_sentiment', 'avg_rating', 'final_score', 'avg_sentiment_score', 'num_reviews']]\n",
    "# df = df.sort_values(by=['num_reviews' ,'avg_sentiment', 'avg_sentiment_score', 'avg_rating', 'final_score'], ascending=[False, False, False, False, False])\n",
    "# #add a new column with num_reviews cliped to 100\n",
    "# df['num_reviews_clipped'] = df['num_reviews'].clip(0, 100)\n",
    "# df.to_csv('final_scores.csv', index=False)"
   ]
  },
  {
   "cell_type": "code",
   "execution_count": 22,
   "metadata": {},
   "outputs": [],
   "source": [
    "df = pd.read_csv('final_scores.csv')\n",
    "df = df.sort_values(by=['final_score ' ,'avg_sentiment ', 'avg_rating ', 'avg_sentiment_score ', 'num_reviews '], ascending=[False, False, False, False, False])\n",
    "df.to_csv('final_scores_sorted.csv', index=False)"
   ]
  },
  {
   "cell_type": "code",
   "execution_count": 23,
   "metadata": {},
   "outputs": [
    {
     "data": {
      "application/vnd.plotly.v1+json": {
       "config": {
        "plotlyServerURL": "https://plot.ly"
       },
       "data": [
        {
         "customdata": [
          [
           214197,
           5456
          ],
          [
           93520,
           4009
          ],
          [
           122005,
           3726
          ],
          [
           93618,
           3534
          ],
          [
           223023,
           3385
          ],
          [
           99766,
           3218
          ],
          [
           93562,
           3170
          ],
          [
           93437,
           3034
          ],
          [
           611947,
           3004
          ],
          [
           208454,
           2898
          ],
          [
           93569,
           2886
          ],
          [
           93450,
           2867
          ],
          [
           249712,
           2865
          ],
          [
           93507,
           2839
          ],
          [
           93346,
           2816
          ],
          [
           99307,
           2783
          ],
          [
           93516,
           2782
          ],
          [
           111501,
           2675
          ],
          [
           99352,
           2657
          ],
          [
           93358,
           2641
          ],
          [
           115644,
           2601
          ],
          [
           93454,
           2582
          ],
          [
           93352,
           2550
          ],
          [
           81192,
           2486
          ],
          [
           99288,
           2378
          ],
          [
           268533,
           2360
          ],
          [
           93464,
           2358
          ],
          [
           113317,
           2340
          ],
          [
           81295,
           2336
          ],
          [
           93421,
           2320
          ],
          [
           87617,
           2305
          ],
          [
           2079052,
           2289
          ],
          [
           93517,
           2273
          ],
          [
           292142,
           2247
          ],
          [
           93457,
           2198
          ],
          [
           126260,
           2175
          ],
          [
           111418,
           2091
          ],
          [
           93462,
           2090
          ],
          [
           93486,
           2044
          ],
          [
           112066,
           2042
          ],
          [
           89599,
           1929
          ],
          [
           81461,
           1923
          ],
          [
           1465162,
           1913
          ],
          [
           1218792,
           1903
          ],
          [
           84093,
           1855
          ],
          [
           1503474,
           1842
          ],
          [
           93466,
           1832
          ],
          [
           93543,
           1793
          ],
          [
           208453,
           1688
          ],
          [
           224221,
           1682
          ],
          [
           99392,
           1665
          ],
          [
           87638,
           1662
          ],
          [
           235238,
           1650
          ],
          [
           119728,
           1650
          ],
          [
           1938661,
           1642
          ],
          [
           114134,
           1608
          ],
          [
           109413,
           1605
          ],
          [
           217844,
           1577
          ],
          [
           262330,
           1568
          ],
          [
           80562,
           1568
          ],
          [
           224948,
           1564
          ],
          [
           93344,
           1558
          ],
          [
           81375,
           1553
          ],
          [
           266157,
           1543
          ],
          [
           81019,
           1533
          ],
          [
           258705,
           1532
          ],
          [
           83040,
           1523
          ],
          [
           290978,
           1489
          ],
          [
           80219,
           1479
          ],
          [
           612263,
           1477
          ],
          [
           81394,
           1476
          ],
          [
           93390,
           1448
          ],
          [
           321151,
           1440
          ],
          [
           80793,
           1440
          ],
          [
           78046,
           1407
          ],
          [
           99762,
           1404
          ],
          [
           217498,
           1401
          ],
          [
           93340,
           1393
          ],
          [
           100570,
           1392
          ],
          [
           93435,
           1388
          ],
          [
           209382,
           1386
          ],
          [
           518280,
           1383
          ],
          [
           84087,
           1375
          ],
          [
           84167,
           1359
          ],
          [
           93338,
           1348
          ],
          [
           80780,
           1346
          ],
          [
           87620,
           1332
          ],
          [
           630409,
           1331
          ],
          [
           81397,
           1330
          ],
          [
           208191,
           1323
          ],
          [
           100562,
           1321
          ],
          [
           236299,
           1316
          ],
          [
           89602,
           1314
          ],
          [
           80925,
           1310
          ],
          [
           502408,
           1298
          ],
          [
           119443,
           1297
          ],
          [
           1646128,
           1284
          ],
          [
           84502,
           1275
          ],
          [
           217616,
           1269
          ],
          [
           235513,
           1267
          ],
          [
           99535,
           1253
          ],
          [
           112064,
           1250
          ],
          [
           80999,
           1250
          ],
          [
           80602,
           1243
          ],
          [
           93589,
           1239
          ],
          [
           1601249,
           1238
          ],
          [
           87590,
           1226
          ],
          [
           81169,
           1224
          ],
          [
           654030,
           1215
          ],
          [
           81042,
           1213
          ],
          [
           93579,
           1203
          ],
          [
           1158753,
           1200
          ],
          [
           223024,
           1195
          ],
          [
           224214,
           1177
          ],
          [
           114595,
           1175
          ],
          [
           89617,
           1173
          ],
          [
           80668,
           1168
          ],
          [
           665258,
           1154
          ],
          [
           93526,
           1149
          ],
          [
           112328,
           1139
          ],
          [
           93545,
           1129
          ],
          [
           93345,
           1128
          ],
          [
           94371,
           1126
          ],
          [
           115484,
           1124
          ],
          [
           81315,
           1120
          ],
          [
           1456416,
           1118
          ],
          [
           115617,
           1101
          ],
          [
           77274,
           1101
          ],
          [
           1456560,
           1097
          ],
          [
           114581,
           1085
          ],
          [
           114942,
           1084
          ],
          [
           93571,
           1084
          ],
          [
           676408,
           1078
          ],
          [
           81222,
           1078
          ],
          [
           77874,
           1073
          ],
          [
           81103,
           1070
          ],
          [
           122343,
           1062
          ],
          [
           93396,
           1057
          ],
          [
           217813,
           1054
          ],
          [
           113905,
           1054
          ],
          [
           78694,
           1053
          ],
          [
           81377,
           1053
          ],
          [
           100507,
           1049
          ],
          [
           126257,
           1044
          ],
          [
           1566945,
           1042
          ],
          [
           220240,
           1040
          ],
          [
           90985,
           1036
          ],
          [
           578305,
           1032
          ],
          [
           223049,
           1027
          ],
          [
           75711,
           1024
          ],
          [
           93622,
           1022
          ],
          [
           77866,
           1022
          ],
          [
           217626,
           1015
          ],
          [
           99425,
           1010
          ],
          [
           224223,
           1010
          ],
          [
           113300,
           1008
          ],
          [
           83646,
           1004
          ],
          [
           93379,
           1002
          ]
         ],
         "hovertemplate": "avg_rating =%{marker.color}<br>final_score =%{y}<br>num_reviews_clipped=%{marker.size}<br>hotel_id =%{customdata[0]}<br>num_reviews =%{customdata[1]}<extra></extra>",
         "legendgroup": "",
         "marker": {
          "color": [
           2.6988,
           3.2482,
           4.2587,
           3.4997,
           3.4124,
           3.9796,
           4.4005,
           3.3723,
           3.4722,
           4.7144,
           4.0383,
           4.0377,
           3.9876,
           4.3959,
           4.0952,
           3.7879,
           4.2292,
           4.0149,
           4.6033,
           3.7375,
           4.2535,
           4.285,
           4.0544,
           3.751,
           4.5128,
           4.5858,
           3.5934,
           4.4336,
           3.4723,
           2.7013,
           3.3514,
           4.1967,
           4.2595,
           4.6213,
           4.7089,
           4.6286,
           3.6041,
           3.5509,
           3.5159,
           4.1398,
           4.2213,
           3.4537,
           4.6635,
           4.5681,
           4.256,
           4.7154,
           3.7446,
           3.8365,
           4.3226,
           4.5552,
           4.1818,
           4.4784,
           3.8231,
           3.6325,
           3.2464,
           4.4265,
           4.8167,
           4.495,
           4.5597,
           3.7606,
           4.5445,
           3.4963,
           3.176,
           4.247,
           3.4275,
           4.1508,
           4.6172,
           3.4969,
           4.4545,
           3.0847,
           4.5375,
           3.7843,
           4.7363,
           4.2015,
           3.8485,
           4.5367,
           4.5403,
           4.7108,
           4.0491,
           3.6877,
           4.0126,
           3.9387,
           3.9866,
           3.817,
           4.3489,
           4.2556,
           4.0239,
           3.9819,
           3.6653,
           4.2168,
           4.5931,
           4.2875,
           4.0816,
           4.3213,
           4.2013,
           3.3957,
           4.7179,
           4.4977,
           4.4907,
           3.9726,
           4.6741,
           4.7822,
           4.0372,
           3.1791,
           4.2194,
           4.643,
           3.8813,
           4.4019,
           3.9745,
           3.1508,
           3.7836,
           3.9954,
           4.2292,
           4.4728,
           4.7586,
           4.289,
           4.5464,
           4.1475,
           3.2553,
           4.4718,
           3.6161,
           3.4444,
           4.358,
           4.3089,
           4.5705,
           4.5817,
           4.594,
           3.0693,
           4.9608,
           4.0477,
           4.6204,
           4.2475,
           4.7547,
           4.0106,
           3.7088,
           4.0081,
           4.2437,
           3.0495,
           4.4394,
           4.29,
           4.3327,
           4.1249,
           4.6613,
           4.0671,
           4.224,
           4.1352,
           4.2565,
           4.5819,
           4.1098,
           3.2644,
           3.3262,
           3.5644,
           4.656,
           3.2018,
           4.0316,
           3.4877,
           4.0278,
           3.8679
          ],
          "coloraxis": "coloraxis",
          "size": [
           100,
           100,
           100,
           100,
           100,
           100,
           100,
           100,
           100,
           100,
           100,
           100,
           100,
           100,
           100,
           100,
           100,
           100,
           100,
           100,
           100,
           100,
           100,
           100,
           100,
           100,
           100,
           100,
           100,
           100,
           100,
           100,
           100,
           100,
           100,
           100,
           100,
           100,
           100,
           100,
           100,
           100,
           100,
           100,
           100,
           100,
           100,
           100,
           100,
           100,
           100,
           100,
           100,
           100,
           100,
           100,
           100,
           100,
           100,
           100,
           100,
           100,
           100,
           100,
           100,
           100,
           100,
           100,
           100,
           100,
           100,
           100,
           100,
           100,
           100,
           100,
           100,
           100,
           100,
           100,
           100,
           100,
           100,
           100,
           100,
           100,
           100,
           100,
           100,
           100,
           100,
           100,
           100,
           100,
           100,
           100,
           100,
           100,
           100,
           100,
           100,
           100,
           100,
           100,
           100,
           100,
           100,
           100,
           100,
           100,
           100,
           100,
           100,
           100,
           100,
           100,
           100,
           100,
           100,
           100,
           100,
           100,
           100,
           100,
           100,
           100,
           100,
           100,
           100,
           100,
           100,
           100,
           100,
           100,
           100,
           100,
           100,
           100,
           100,
           100,
           100,
           100,
           100,
           100,
           100,
           100,
           100,
           100,
           100,
           100,
           100,
           100,
           100,
           100,
           100,
           100,
           100,
           100
          ],
          "sizemode": "area",
          "sizeref": 0.25,
          "symbol": "circle"
         },
         "mode": "markers",
         "name": "",
         "orientation": "v",
         "showlegend": false,
         "type": "scatter",
         "x": [
          2.6988,
          3.2482,
          4.2587,
          3.4997,
          3.4124,
          3.9796,
          4.4005,
          3.3723,
          3.4722,
          4.7144,
          4.0383,
          4.0377,
          3.9876,
          4.3959,
          4.0952,
          3.7879,
          4.2292,
          4.0149,
          4.6033,
          3.7375,
          4.2535,
          4.285,
          4.0544,
          3.751,
          4.5128,
          4.5858,
          3.5934,
          4.4336,
          3.4723,
          2.7013,
          3.3514,
          4.1967,
          4.2595,
          4.6213,
          4.7089,
          4.6286,
          3.6041,
          3.5509,
          3.5159,
          4.1398,
          4.2213,
          3.4537,
          4.6635,
          4.5681,
          4.256,
          4.7154,
          3.7446,
          3.8365,
          4.3226,
          4.5552,
          4.1818,
          4.4784,
          3.8231,
          3.6325,
          3.2464,
          4.4265,
          4.8167,
          4.495,
          4.5597,
          3.7606,
          4.5445,
          3.4963,
          3.176,
          4.247,
          3.4275,
          4.1508,
          4.6172,
          3.4969,
          4.4545,
          3.0847,
          4.5375,
          3.7843,
          4.7363,
          4.2015,
          3.8485,
          4.5367,
          4.5403,
          4.7108,
          4.0491,
          3.6877,
          4.0126,
          3.9387,
          3.9866,
          3.817,
          4.3489,
          4.2556,
          4.0239,
          3.9819,
          3.6653,
          4.2168,
          4.5931,
          4.2875,
          4.0816,
          4.3213,
          4.2013,
          3.3957,
          4.7179,
          4.4977,
          4.4907,
          3.9726,
          4.6741,
          4.7822,
          4.0372,
          3.1791,
          4.2194,
          4.643,
          3.8813,
          4.4019,
          3.9745,
          3.1508,
          3.7836,
          3.9954,
          4.2292,
          4.4728,
          4.7586,
          4.289,
          4.5464,
          4.1475,
          3.2553,
          4.4718,
          3.6161,
          3.4444,
          4.358,
          4.3089,
          4.5705,
          4.5817,
          4.594,
          3.0693,
          4.9608,
          4.0477,
          4.6204,
          4.2475,
          4.7547,
          4.0106,
          3.7088,
          4.0081,
          4.2437,
          3.0495,
          4.4394,
          4.29,
          4.3327,
          4.1249,
          4.6613,
          4.0671,
          4.224,
          4.1352,
          4.2565,
          4.5819,
          4.1098,
          3.2644,
          3.3262,
          3.5644,
          4.656,
          3.2018,
          4.0316,
          3.4877,
          4.0278,
          3.8679
         ],
         "xaxis": "x",
         "y": [
          2.5851,
          3.3433,
          4.091,
          3.329,
          2.8562,
          3.5704,
          3.8673,
          3.7893,
          3.2319,
          4.4768,
          4.2222,
          3.344,
          3.8595,
          3.8252,
          4.4234,
          3.5684,
          4.0761,
          3.418,
          4.5093,
          4.2574,
          4.4477,
          3.7343,
          4.2212,
          3.6159,
          3.9285,
          4.1715,
          3.4938,
          4.6149,
          3.1929,
          2.321,
          3.257,
          4.3597,
          3.6612,
          4.5187,
          4.5624,
          4.1661,
          2.763,
          3.5053,
          3.3307,
          2.7458,
          3.7883,
          2.8805,
          4.5033,
          4.5163,
          4.0961,
          4.6063,
          3.0585,
          4.0961,
          4.0106,
          4.6462,
          4.3263,
          3.6729,
          3.6211,
          3.0581,
          3.2549,
          4.3283,
          3.932,
          4.281,
          3.7553,
          3.1195,
          4.4817,
          3.1839,
          3.1664,
          4.386,
          4.1007,
          4.5005,
          4.2918,
          3.7371,
          3.3427,
          4.1408,
          4.4274,
          3.8407,
          4.2243,
          3.8877,
          3.6426,
          4.5892,
          4.486,
          4.6669,
          3.2053,
          4.2963,
          3.9522,
          3.9222,
          3.5696,
          3.2599,
          4.5389,
          4.3292,
          3.5087,
          3.9677,
          3.7556,
          3.0936,
          3.6399,
          4.3184,
          3.3572,
          4.1312,
          4.1676,
          3.0697,
          4.0155,
          4.5992,
          4.1809,
          4.3393,
          4.1476,
          3.9245,
          3.7391,
          3.4793,
          4.3661,
          3.6948,
          2.9552,
          4.0456,
          3.398,
          3.4551,
          3.5941,
          4.2936,
          4.3188,
          4.25,
          3.908,
          3.6482,
          3.9707,
          3.911,
          3.2121,
          3.0998,
          3.3094,
          3.7774,
          4.271,
          3.2747,
          3.5749,
          4.3958,
          3.4746,
          2.8268,
          4.3331,
          3.6571,
          4.0056,
          3.9205,
          3.7204,
          3.3468,
          2.8787,
          3.5306,
          4.1747,
          4.377,
          3.9971,
          3.8547,
          3.7496,
          3.2903,
          4.5291,
          4.1415,
          4.5717,
          3.5023,
          3.5414,
          4.4356,
          2.9104,
          3.002,
          4.0905,
          3.0946,
          3.955,
          3.9824,
          3.9095,
          4.2,
          3.6375,
          4.0602
         ],
         "yaxis": "y"
        }
       ],
       "layout": {
        "coloraxis": {
         "colorbar": {
          "title": {
           "text": "avg_rating "
          }
         },
         "colorscale": [
          [
           0,
           "#0d0887"
          ],
          [
           0.1111111111111111,
           "#46039f"
          ],
          [
           0.2222222222222222,
           "#7201a8"
          ],
          [
           0.3333333333333333,
           "#9c179e"
          ],
          [
           0.4444444444444444,
           "#bd3786"
          ],
          [
           0.5555555555555556,
           "#d8576b"
          ],
          [
           0.6666666666666666,
           "#ed7953"
          ],
          [
           0.7777777777777778,
           "#fb9f3a"
          ],
          [
           0.8888888888888888,
           "#fdca26"
          ],
          [
           1,
           "#f0f921"
          ]
         ]
        },
        "legend": {
         "itemsizing": "constant",
         "tracegroupgap": 0
        },
        "margin": {
         "t": 60
        },
        "template": {
         "data": {
          "bar": [
           {
            "error_x": {
             "color": "#2a3f5f"
            },
            "error_y": {
             "color": "#2a3f5f"
            },
            "marker": {
             "line": {
              "color": "#E5ECF6",
              "width": 0.5
             },
             "pattern": {
              "fillmode": "overlay",
              "size": 10,
              "solidity": 0.2
             }
            },
            "type": "bar"
           }
          ],
          "barpolar": [
           {
            "marker": {
             "line": {
              "color": "#E5ECF6",
              "width": 0.5
             },
             "pattern": {
              "fillmode": "overlay",
              "size": 10,
              "solidity": 0.2
             }
            },
            "type": "barpolar"
           }
          ],
          "carpet": [
           {
            "aaxis": {
             "endlinecolor": "#2a3f5f",
             "gridcolor": "white",
             "linecolor": "white",
             "minorgridcolor": "white",
             "startlinecolor": "#2a3f5f"
            },
            "baxis": {
             "endlinecolor": "#2a3f5f",
             "gridcolor": "white",
             "linecolor": "white",
             "minorgridcolor": "white",
             "startlinecolor": "#2a3f5f"
            },
            "type": "carpet"
           }
          ],
          "choropleth": [
           {
            "colorbar": {
             "outlinewidth": 0,
             "ticks": ""
            },
            "type": "choropleth"
           }
          ],
          "contour": [
           {
            "colorbar": {
             "outlinewidth": 0,
             "ticks": ""
            },
            "colorscale": [
             [
              0,
              "#0d0887"
             ],
             [
              0.1111111111111111,
              "#46039f"
             ],
             [
              0.2222222222222222,
              "#7201a8"
             ],
             [
              0.3333333333333333,
              "#9c179e"
             ],
             [
              0.4444444444444444,
              "#bd3786"
             ],
             [
              0.5555555555555556,
              "#d8576b"
             ],
             [
              0.6666666666666666,
              "#ed7953"
             ],
             [
              0.7777777777777778,
              "#fb9f3a"
             ],
             [
              0.8888888888888888,
              "#fdca26"
             ],
             [
              1,
              "#f0f921"
             ]
            ],
            "type": "contour"
           }
          ],
          "contourcarpet": [
           {
            "colorbar": {
             "outlinewidth": 0,
             "ticks": ""
            },
            "type": "contourcarpet"
           }
          ],
          "heatmap": [
           {
            "colorbar": {
             "outlinewidth": 0,
             "ticks": ""
            },
            "colorscale": [
             [
              0,
              "#0d0887"
             ],
             [
              0.1111111111111111,
              "#46039f"
             ],
             [
              0.2222222222222222,
              "#7201a8"
             ],
             [
              0.3333333333333333,
              "#9c179e"
             ],
             [
              0.4444444444444444,
              "#bd3786"
             ],
             [
              0.5555555555555556,
              "#d8576b"
             ],
             [
              0.6666666666666666,
              "#ed7953"
             ],
             [
              0.7777777777777778,
              "#fb9f3a"
             ],
             [
              0.8888888888888888,
              "#fdca26"
             ],
             [
              1,
              "#f0f921"
             ]
            ],
            "type": "heatmap"
           }
          ],
          "heatmapgl": [
           {
            "colorbar": {
             "outlinewidth": 0,
             "ticks": ""
            },
            "colorscale": [
             [
              0,
              "#0d0887"
             ],
             [
              0.1111111111111111,
              "#46039f"
             ],
             [
              0.2222222222222222,
              "#7201a8"
             ],
             [
              0.3333333333333333,
              "#9c179e"
             ],
             [
              0.4444444444444444,
              "#bd3786"
             ],
             [
              0.5555555555555556,
              "#d8576b"
             ],
             [
              0.6666666666666666,
              "#ed7953"
             ],
             [
              0.7777777777777778,
              "#fb9f3a"
             ],
             [
              0.8888888888888888,
              "#fdca26"
             ],
             [
              1,
              "#f0f921"
             ]
            ],
            "type": "heatmapgl"
           }
          ],
          "histogram": [
           {
            "marker": {
             "pattern": {
              "fillmode": "overlay",
              "size": 10,
              "solidity": 0.2
             }
            },
            "type": "histogram"
           }
          ],
          "histogram2d": [
           {
            "colorbar": {
             "outlinewidth": 0,
             "ticks": ""
            },
            "colorscale": [
             [
              0,
              "#0d0887"
             ],
             [
              0.1111111111111111,
              "#46039f"
             ],
             [
              0.2222222222222222,
              "#7201a8"
             ],
             [
              0.3333333333333333,
              "#9c179e"
             ],
             [
              0.4444444444444444,
              "#bd3786"
             ],
             [
              0.5555555555555556,
              "#d8576b"
             ],
             [
              0.6666666666666666,
              "#ed7953"
             ],
             [
              0.7777777777777778,
              "#fb9f3a"
             ],
             [
              0.8888888888888888,
              "#fdca26"
             ],
             [
              1,
              "#f0f921"
             ]
            ],
            "type": "histogram2d"
           }
          ],
          "histogram2dcontour": [
           {
            "colorbar": {
             "outlinewidth": 0,
             "ticks": ""
            },
            "colorscale": [
             [
              0,
              "#0d0887"
             ],
             [
              0.1111111111111111,
              "#46039f"
             ],
             [
              0.2222222222222222,
              "#7201a8"
             ],
             [
              0.3333333333333333,
              "#9c179e"
             ],
             [
              0.4444444444444444,
              "#bd3786"
             ],
             [
              0.5555555555555556,
              "#d8576b"
             ],
             [
              0.6666666666666666,
              "#ed7953"
             ],
             [
              0.7777777777777778,
              "#fb9f3a"
             ],
             [
              0.8888888888888888,
              "#fdca26"
             ],
             [
              1,
              "#f0f921"
             ]
            ],
            "type": "histogram2dcontour"
           }
          ],
          "mesh3d": [
           {
            "colorbar": {
             "outlinewidth": 0,
             "ticks": ""
            },
            "type": "mesh3d"
           }
          ],
          "parcoords": [
           {
            "line": {
             "colorbar": {
              "outlinewidth": 0,
              "ticks": ""
             }
            },
            "type": "parcoords"
           }
          ],
          "pie": [
           {
            "automargin": true,
            "type": "pie"
           }
          ],
          "scatter": [
           {
            "fillpattern": {
             "fillmode": "overlay",
             "size": 10,
             "solidity": 0.2
            },
            "type": "scatter"
           }
          ],
          "scatter3d": [
           {
            "line": {
             "colorbar": {
              "outlinewidth": 0,
              "ticks": ""
             }
            },
            "marker": {
             "colorbar": {
              "outlinewidth": 0,
              "ticks": ""
             }
            },
            "type": "scatter3d"
           }
          ],
          "scattercarpet": [
           {
            "marker": {
             "colorbar": {
              "outlinewidth": 0,
              "ticks": ""
             }
            },
            "type": "scattercarpet"
           }
          ],
          "scattergeo": [
           {
            "marker": {
             "colorbar": {
              "outlinewidth": 0,
              "ticks": ""
             }
            },
            "type": "scattergeo"
           }
          ],
          "scattergl": [
           {
            "marker": {
             "colorbar": {
              "outlinewidth": 0,
              "ticks": ""
             }
            },
            "type": "scattergl"
           }
          ],
          "scattermapbox": [
           {
            "marker": {
             "colorbar": {
              "outlinewidth": 0,
              "ticks": ""
             }
            },
            "type": "scattermapbox"
           }
          ],
          "scatterpolar": [
           {
            "marker": {
             "colorbar": {
              "outlinewidth": 0,
              "ticks": ""
             }
            },
            "type": "scatterpolar"
           }
          ],
          "scatterpolargl": [
           {
            "marker": {
             "colorbar": {
              "outlinewidth": 0,
              "ticks": ""
             }
            },
            "type": "scatterpolargl"
           }
          ],
          "scatterternary": [
           {
            "marker": {
             "colorbar": {
              "outlinewidth": 0,
              "ticks": ""
             }
            },
            "type": "scatterternary"
           }
          ],
          "surface": [
           {
            "colorbar": {
             "outlinewidth": 0,
             "ticks": ""
            },
            "colorscale": [
             [
              0,
              "#0d0887"
             ],
             [
              0.1111111111111111,
              "#46039f"
             ],
             [
              0.2222222222222222,
              "#7201a8"
             ],
             [
              0.3333333333333333,
              "#9c179e"
             ],
             [
              0.4444444444444444,
              "#bd3786"
             ],
             [
              0.5555555555555556,
              "#d8576b"
             ],
             [
              0.6666666666666666,
              "#ed7953"
             ],
             [
              0.7777777777777778,
              "#fb9f3a"
             ],
             [
              0.8888888888888888,
              "#fdca26"
             ],
             [
              1,
              "#f0f921"
             ]
            ],
            "type": "surface"
           }
          ],
          "table": [
           {
            "cells": {
             "fill": {
              "color": "#EBF0F8"
             },
             "line": {
              "color": "white"
             }
            },
            "header": {
             "fill": {
              "color": "#C8D4E3"
             },
             "line": {
              "color": "white"
             }
            },
            "type": "table"
           }
          ]
         },
         "layout": {
          "annotationdefaults": {
           "arrowcolor": "#2a3f5f",
           "arrowhead": 0,
           "arrowwidth": 1
          },
          "autotypenumbers": "strict",
          "coloraxis": {
           "colorbar": {
            "outlinewidth": 0,
            "ticks": ""
           }
          },
          "colorscale": {
           "diverging": [
            [
             0,
             "#8e0152"
            ],
            [
             0.1,
             "#c51b7d"
            ],
            [
             0.2,
             "#de77ae"
            ],
            [
             0.3,
             "#f1b6da"
            ],
            [
             0.4,
             "#fde0ef"
            ],
            [
             0.5,
             "#f7f7f7"
            ],
            [
             0.6,
             "#e6f5d0"
            ],
            [
             0.7,
             "#b8e186"
            ],
            [
             0.8,
             "#7fbc41"
            ],
            [
             0.9,
             "#4d9221"
            ],
            [
             1,
             "#276419"
            ]
           ],
           "sequential": [
            [
             0,
             "#0d0887"
            ],
            [
             0.1111111111111111,
             "#46039f"
            ],
            [
             0.2222222222222222,
             "#7201a8"
            ],
            [
             0.3333333333333333,
             "#9c179e"
            ],
            [
             0.4444444444444444,
             "#bd3786"
            ],
            [
             0.5555555555555556,
             "#d8576b"
            ],
            [
             0.6666666666666666,
             "#ed7953"
            ],
            [
             0.7777777777777778,
             "#fb9f3a"
            ],
            [
             0.8888888888888888,
             "#fdca26"
            ],
            [
             1,
             "#f0f921"
            ]
           ],
           "sequentialminus": [
            [
             0,
             "#0d0887"
            ],
            [
             0.1111111111111111,
             "#46039f"
            ],
            [
             0.2222222222222222,
             "#7201a8"
            ],
            [
             0.3333333333333333,
             "#9c179e"
            ],
            [
             0.4444444444444444,
             "#bd3786"
            ],
            [
             0.5555555555555556,
             "#d8576b"
            ],
            [
             0.6666666666666666,
             "#ed7953"
            ],
            [
             0.7777777777777778,
             "#fb9f3a"
            ],
            [
             0.8888888888888888,
             "#fdca26"
            ],
            [
             1,
             "#f0f921"
            ]
           ]
          },
          "colorway": [
           "#636efa",
           "#EF553B",
           "#00cc96",
           "#ab63fa",
           "#FFA15A",
           "#19d3f3",
           "#FF6692",
           "#B6E880",
           "#FF97FF",
           "#FECB52"
          ],
          "font": {
           "color": "#2a3f5f"
          },
          "geo": {
           "bgcolor": "white",
           "lakecolor": "white",
           "landcolor": "#E5ECF6",
           "showlakes": true,
           "showland": true,
           "subunitcolor": "white"
          },
          "hoverlabel": {
           "align": "left"
          },
          "hovermode": "closest",
          "mapbox": {
           "style": "light"
          },
          "paper_bgcolor": "white",
          "plot_bgcolor": "#E5ECF6",
          "polar": {
           "angularaxis": {
            "gridcolor": "white",
            "linecolor": "white",
            "ticks": ""
           },
           "bgcolor": "#E5ECF6",
           "radialaxis": {
            "gridcolor": "white",
            "linecolor": "white",
            "ticks": ""
           }
          },
          "scene": {
           "xaxis": {
            "backgroundcolor": "#E5ECF6",
            "gridcolor": "white",
            "gridwidth": 2,
            "linecolor": "white",
            "showbackground": true,
            "ticks": "",
            "zerolinecolor": "white"
           },
           "yaxis": {
            "backgroundcolor": "#E5ECF6",
            "gridcolor": "white",
            "gridwidth": 2,
            "linecolor": "white",
            "showbackground": true,
            "ticks": "",
            "zerolinecolor": "white"
           },
           "zaxis": {
            "backgroundcolor": "#E5ECF6",
            "gridcolor": "white",
            "gridwidth": 2,
            "linecolor": "white",
            "showbackground": true,
            "ticks": "",
            "zerolinecolor": "white"
           }
          },
          "shapedefaults": {
           "line": {
            "color": "#2a3f5f"
           }
          },
          "ternary": {
           "aaxis": {
            "gridcolor": "white",
            "linecolor": "white",
            "ticks": ""
           },
           "baxis": {
            "gridcolor": "white",
            "linecolor": "white",
            "ticks": ""
           },
           "bgcolor": "#E5ECF6",
           "caxis": {
            "gridcolor": "white",
            "linecolor": "white",
            "ticks": ""
           }
          },
          "title": {
           "x": 0.05
          },
          "xaxis": {
           "automargin": true,
           "gridcolor": "white",
           "linecolor": "white",
           "ticks": "",
           "title": {
            "standoff": 15
           },
           "zerolinecolor": "white",
           "zerolinewidth": 2
          },
          "yaxis": {
           "automargin": true,
           "gridcolor": "white",
           "linecolor": "white",
           "ticks": "",
           "title": {
            "standoff": 15
           },
           "zerolinecolor": "white",
           "zerolinewidth": 2
          }
         }
        },
        "title": {
         "text": "Scatter Plot of Final Score vs Average Rating for Hotels with at least 1000 Reviews"
        },
        "xaxis": {
         "anchor": "y",
         "domain": [
          0,
          1
         ],
         "title": {
          "text": "Average Rating"
         }
        },
        "yaxis": {
         "anchor": "x",
         "domain": [
          0,
          1
         ],
         "title": {
          "text": "Final Score"
         }
        }
       }
      }
     },
     "metadata": {},
     "output_type": "display_data"
    }
   ],
   "source": [
    "df = pd.read_csv('final_scores_sorted.csv')\n",
    "\n",
    "fig = px.scatter(df, x='avg_rating ', y='final_score ', color='avg_rating ', size='num_reviews_clipped', hover_data=['hotel_id ', 'num_reviews '])\n",
    "fig.update_traces(marker=dict(size=12,\n",
    "                              line=dict(width=2,\n",
    "                                        color='DarkSlateGrey')),\n",
    "                  selector=dict(mode='markers+text'))\n",
    "\n",
    "fig.update_layout(\n",
    "    yaxis_title=\"Final Score\",\n",
    "    xaxis_title=\"Average Rating\",\n",
    "    title=f\"Scatter Plot of Final Score vs Average Rating for Hotels with at least 1000 Reviews\",\n",
    ")\n",
    "fig.show()"
   ]
  },
  {
   "cell_type": "code",
   "execution_count": null,
   "metadata": {},
   "outputs": [],
   "source": [
    "## print the top 5 hotels, with each hotel's average sentiment score, average rating, final score, and average sentiment score\n",
    "print(\"Top 5 hotels with at least 1000 reviews:\")\n",
    "df.drop(columns=['num_reviews_clipped']).head(5)"
   ]
  },
  {
   "cell_type": "markdown",
   "metadata": {},
   "source": [
    "## Sentiment analysis pyspark ML"
   ]
  },
  {
   "cell_type": "code",
   "execution_count": null,
   "metadata": {},
   "outputs": [],
   "source": [
    "from pyspark.sql import SparkSession\n",
    "from pyspark.sql.types import *\n",
    "from pyspark.sql.functions import *\n",
    "from pyspark.ml.classification import LogisticRegression\n",
    "from pyspark.ml.feature import HashingTF, Tokenizer, StopWordsRemover"
   ]
  },
  {
   "cell_type": "code",
   "execution_count": null,
   "metadata": {},
   "outputs": [],
   "source": [
    "appName=\"Sentimen Analysis Spark\"\n",
    "spark=SparkSession.builder.master('local').appName(appName).getOrCreate()"
   ]
  },
  {
   "cell_type": "code",
   "execution_count": null,
   "metadata": {},
   "outputs": [],
   "source": [
    "## reading the review sentiment csv file\n",
    "review_csv = spark.read.csv('review_sentiments.csv', header=True, inferSchema=True)\n",
    "review_csv.show(truncate=True, n=3)"
   ]
  },
  {
   "cell_type": "code",
   "execution_count": null,
   "metadata": {},
   "outputs": [],
   "source": [
    "## selecting the review and sentiment columns\n",
    "data=review_csv.select(\n",
    "    \"Review\",col(\"Sentiment\").cast(\"Int\").alias(\"label\"))\n",
    "data.show(truncate=True, n=5)"
   ]
  },
  {
   "cell_type": "code",
   "execution_count": null,
   "metadata": {},
   "outputs": [],
   "source": [
    "## splitting the data into training and testing\n",
    "split_data = data.randomSplit([0.8, 0.2])\n",
    "train = split_data[0]\n",
    "\n",
    "test = split_data[1].withColumnRenamed(\"label\", \"true_label\")\n",
    "train_rows = train.count()\n",
    "test_rows = test.count()\n",
    "\n",
    "print(\"Training Rows:\", train_rows, \" Testing Rows:\", test_rows)"
   ]
  },
  {
   "cell_type": "code",
   "execution_count": null,
   "metadata": {},
   "outputs": [],
   "source": [
    "## tokenization of the review coloumn, adding and showing the words that influence the sentiment \n",
    "tokenizer = Tokenizer(inputCol=\"Review\", outputCol=\"SentimentWords\")\n",
    "tokenizedTrain = tokenizer.transform(train)\n",
    "tokenizedTrain.show(truncate=True, n=5)"
   ]
  },
  {
   "cell_type": "code",
   "execution_count": null,
   "metadata": {},
   "outputs": [],
   "source": [
    "## removing stopwords, adding and showing the meaningful words\n",
    "swr = StopWordsRemover(inputCol=tokenizer.getOutputCol(), \n",
    "                       outputCol=\"MeaningfulWords\")\n",
    "SwRemovedTrain = swr.transform(tokenizedTrain)\n",
    "SwRemovedTrain.show(truncate=True, n=5)"
   ]
  },
  {
   "cell_type": "code",
   "execution_count": null,
   "metadata": {},
   "outputs": [],
   "source": [
    "## hashing the meaningful words and showing the features\n",
    "hashTF = HashingTF(inputCol=swr.getOutputCol(), outputCol=\"features\")\n",
    "numericTrain = hashTF.transform(SwRemovedTrain).select(\n",
    "    'label', 'MeaningfulWords', 'features')\n",
    "numericTrain.show(truncate=True, n=3)"
   ]
  },
  {
   "cell_type": "code",
   "execution_count": null,
   "metadata": {},
   "outputs": [],
   "source": [
    "## training the model\n",
    "lr = LogisticRegression(labelCol=\"label\", featuresCol=\"features\", \n",
    "                        maxIter=50, regParam=0.01)\n",
    "\n",
    "# print if a label is Nan or Null\n",
    "numericTrain = numericTrain.filter(numericTrain.label.isNotNull())\n",
    "\n",
    "model = lr.fit(numericTrain)\n",
    "print (\"Training Done\")"
   ]
  },
  {
   "cell_type": "code",
   "execution_count": null,
   "metadata": {},
   "outputs": [],
   "source": [
    "tokenizedTest = tokenizer.transform(test)\n",
    "SwRemovedTest = swr.transform(tokenizedTest)\n",
    "numericTest = hashTF.transform(SwRemovedTest)\n",
    "numericTest.show(truncate=True, n=2)"
   ]
  },
  {
   "cell_type": "code",
   "execution_count": null,
   "metadata": {},
   "outputs": [],
   "source": [
    "#Prediction\n",
    "raw_prediction = model.transform(numericTest)"
   ]
  },
  {
   "cell_type": "code",
   "execution_count": null,
   "metadata": {},
   "outputs": [],
   "source": [
    "Final_prediction = raw_prediction.select(\"MeaningfulWords\", \"prediction\", \"true_label\")\n",
    "Final_prediction.show(n=10, truncate = True)"
   ]
  },
  {
   "cell_type": "code",
   "execution_count": null,
   "metadata": {},
   "outputs": [],
   "source": [
    "from pyspark.sql.functions import col\n",
    "data.groupBy(\"Label\").count().orderBy(col(\"count\").desc()).show()"
   ]
  },
  {
   "cell_type": "code",
   "execution_count": null,
   "metadata": {},
   "outputs": [],
   "source": [
    "Total_True=Final_prediction.filter(Final_prediction['prediction']==Final_prediction['true_label']).count()\n",
    "Alldata=Final_prediction.count()\n",
    "Accuracy=Total_True/Alldata\n",
    "print(\"Accuracy Score is:\", Accuracy*100, '%')"
   ]
  },
  {
   "cell_type": "code",
   "execution_count": null,
   "metadata": {},
   "outputs": [],
   "source": [
    "# ## remove the output_data, output_data2, location directories, output_data.txt, output_data2.txt, and final_scores.csv files\n",
    "# shutil.rmtree('output_data')\n",
    "# os.remove('merged_data.txt')\n",
    "# os.remove('final_scores.csv')\n",
    "# os.remove('review_sentiments.csv')\n",
    "# print(\"All files and directories have been removed...\")"
   ]
  }
 ],
 "metadata": {
  "kernelspec": {
   "display_name": "xai",
   "language": "python",
   "name": "python3"
  },
  "language_info": {
   "codemirror_mode": {
    "name": "ipython",
    "version": 3
   },
   "file_extension": ".py",
   "mimetype": "text/x-python",
   "name": "python",
   "nbconvert_exporter": "python",
   "pygments_lexer": "ipython3",
   "version": "3.10.14"
  }
 },
 "nbformat": 4,
 "nbformat_minor": 2
}
