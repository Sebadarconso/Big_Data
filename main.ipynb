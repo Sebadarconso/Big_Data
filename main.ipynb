{
 "cells": [
  {
   "cell_type": "markdown",
   "metadata": {},
   "source": [
    "# Project Overview: Sentiment Analysis on TripAdvisor Hotel Reviews\n",
    "\n",
    "In this project, we focus on conducting Sentiment Analysis on hotel reviews sourced from TripAdvisor. The dataset used can be accessed [here](https://notebook.community/melqkiades/yelp/notebooks/TripAdvisor-Datasets).\n",
    "\n",
    "## Project Pipeline:\n",
    "\n",
    "1. **Data Preprocessing with MapReduce:**\n",
    "   - We employ a MapReduce job for data preprocessing. This step involves aggregating hotel reviews based on their unique identifiers provided in the dataset.\n",
    "   - All reviews corresponding to each hotel are merged under their respective identifiers to form a consolidated review dataset for each hotel.\n",
    "\n",
    "2. **Hotel Evaluation:**\n",
    "   - Post-aggregation, our objective is to identify the best hotels by analyzing two key metrics:\n",
    "     - **Average Ratings:** Calculated from the collected review data.\n",
    "     - **Sentiment Scores:** Derived from our Sentiment Analysis on the reviews.\n",
    "     - **Other Measures:** That might involve the number of reviews and the sentiment score from the classifier.\n",
    "  \n",
    "3. **Data Filtering for Significance:**\n",
    "   - To enhance computational efficiency and ensure meaningful results, we filter the dataset to include only hotels with more than 1,000 reviews. This threshold helps in avoiding skewed or insignificant data from hotels with fewer reviews.\n",
    "\n",
    "4. **Ablative studies**:\n",
    " - We also implemented our own sentiment analysis model using PySpark ML to test this powerful library.\n",
    "\n",
    "This approach allows us to effectively assess and rank hotels based on a combination of quantitative ratings and qualitative sentiment scores from user reviews."
   ]
  },
  {
   "cell_type": "markdown",
   "metadata": {},
   "source": [
    "## Imports"
   ]
  },
  {
   "cell_type": "code",
   "execution_count": 1,
   "metadata": {},
   "outputs": [],
   "source": [
    "import shutil\n",
    "import time\n",
    "import json \n",
    "import os \n",
    "import re\n",
    "import csv \n",
    "\n",
    "import plotly.express as px\n",
    "import pandas as pd \n",
    "import numpy as np \n",
    "\n",
    "from pyspark import SparkContext, SparkConf\n",
    "from flair.models import TextClassifier\n",
    "from flair.data import Sentence \n",
    "from tqdm import tqdm\n",
    "import torch\n",
    "\n",
    "classifier = TextClassifier.load('en-sentiment')\n",
    "score_to_value = {'NEGATIVE': 0, 'NEUTRAL': 1, 'POSITIVE': 2}  "
   ]
  },
  {
   "cell_type": "markdown",
   "metadata": {},
   "source": [
    "## Map function"
   ]
  },
  {
   "cell_type": "code",
   "execution_count": 2,
   "metadata": {},
   "outputs": [],
   "source": [
    "def map_function(reviews):    \n",
    "    values_extracted = []\n",
    "    \n",
    "    reviews = dict(reviews)\n",
    "    hotel_id = reviews['offering_id']\n",
    "    ratings = reviews['ratings']\n",
    "    review = reviews['text']\n",
    "    key = hotel_id\n",
    "\n",
    "    avg_ratings = sum(ratings.values())/len(ratings)\n",
    "    values_extracted.append(avg_ratings)\n",
    "    values_extracted.append(review)\n",
    "    \n",
    "    return [(key, values_extracted)]"
   ]
  },
  {
   "cell_type": "markdown",
   "metadata": {},
   "source": [
    "## Reduce function "
   ]
  },
  {
   "cell_type": "code",
   "execution_count": 3,
   "metadata": {},
   "outputs": [],
   "source": [
    "def reduce_function(value1, value2):\n",
    "    rating = (value1[0] + value2[0]) / 2\n",
    "    reviews_total = value1[1] + ' ******* ' + value2[1]\n",
    "\n",
    "    return (rating, reviews_total)"
   ]
  },
  {
   "cell_type": "markdown",
   "metadata": {},
   "source": [
    "### JSON parser function"
   ]
  },
  {
   "cell_type": "code",
   "execution_count": 4,
   "metadata": {},
   "outputs": [],
   "source": [
    "def parse_json(line):\n",
    "    \"\"\"\n",
    "    Parse a JSON string into a Python dictionary.\n",
    "    \"\"\"\n",
    "    try:\n",
    "        return json.loads(line)\n",
    "    except json.JSONDecodeError:\n",
    "        return None"
   ]
  },
  {
   "cell_type": "markdown",
   "metadata": {},
   "source": [
    "## MapReduce job"
   ]
  },
  {
   "cell_type": "code",
   "execution_count": 5,
   "metadata": {},
   "outputs": [
    {
     "name": "stdout",
     "output_type": "stream",
     "text": [
      "**************************************************\n",
      "Initializing Spark context...\n",
      "\n"
     ]
    },
    {
     "name": "stderr",
     "output_type": "stream",
     "text": [
      "Setting default log level to \"WARN\".\n",
      "To adjust logging level use sc.setLogLevel(newLevel). For SparkR, use setLogLevel(newLevel).\n",
      "24/06/13 12:19:55 WARN NativeCodeLoader: Unable to load native-hadoop library for your platform... using builtin-java classes where applicable\n"
     ]
    },
    {
     "name": "stdout",
     "output_type": "stream",
     "text": [
      "**************************************************\n",
      "Reading input data from review.txt...\n",
      "\n",
      "Removed existing directory output_data...\n",
      "\n",
      "**************************************************\n",
      "Saving Resilient Distributed Dataset (RDD) to disk...\n",
      "\n"
     ]
    },
    {
     "name": "stderr",
     "output_type": "stream",
     "text": [
      "                                                                                \r"
     ]
    },
    {
     "name": "stdout",
     "output_type": "stream",
     "text": [
      "**************************************************\n",
      "Stopping Spark context...\n",
      "\n",
      "Done.\n",
      "Time taken: 12.85 seconds.\n",
      "\n"
     ]
    }
   ],
   "source": [
    "# Initialize Spark context\n",
    "start = time.time()\n",
    "print(\"*\"*50)\n",
    "print(\"Initializing Spark context...\\n\")\n",
    "conf = SparkConf().setAppName(\"MapReduce\")\n",
    "sc = SparkContext(conf=conf)\n",
    "\n",
    "# Load input data\n",
    "input_path = \"review.txt\" \n",
    "# input_path = \"test.txt\" \n",
    "\n",
    "print(\"*\"*50)\n",
    "print(f\"Reading input data from {input_path}...\\n\")\n",
    "# Read the text file as an RDD\n",
    "rdd = sc.textFile(input_path)\n",
    "\n",
    "# Parse each JSON string into a Python dictionary\n",
    "json_rdd = sc.textFile(input_path)\n",
    "\n",
    "# Parse each JSON string into a Python dictionary\n",
    "parsed_rdd = json_rdd.map(lambda line: json.loads(line))\n",
    "\n",
    "# Map transformation\n",
    "mapped_rdd = parsed_rdd.flatMap(map_function)\n",
    "\n",
    "# Reduce transformation\n",
    "reduced_rdd = mapped_rdd.reduceByKey(reduce_function)\n",
    "output_path = \"output_data\" \n",
    "\n",
    "# Check if directory exists\n",
    "if os.path.exists(output_path):\n",
    "    shutil.rmtree(output_path)\n",
    "    print(f\"Removed existing directory {output_path}...\\n\")\n",
    "\n",
    "print(\"*\"*50)\n",
    "print(\"Saving Resilient Distributed Dataset (RDD) to disk...\\n\")\n",
    "# Save the output data\n",
    "reduced_rdd.saveAsTextFile(output_path)\n",
    "\n",
    "# Stop SparkContext\n",
    "print(\"*\"*50)\n",
    "print(\"Stopping Spark context...\\n\")\n",
    "sc.stop()\n",
    "end = time.time()\n",
    "print(\"Done.\")\n",
    "print(f\"Time taken: {round(end - start, 2)} seconds.\\n\")"
   ]
  },
  {
   "cell_type": "markdown",
   "metadata": {},
   "source": [
    "## Additional functions"
   ]
  },
  {
   "cell_type": "code",
   "execution_count": 6,
   "metadata": {},
   "outputs": [],
   "source": [
    "def parse_line(line):\n",
    "    # Strip any leading/trailing whitespace\n",
    "    line = line.strip()\n",
    "    \n",
    "    # Remove the outer parentheses from the line\n",
    "    line = line[1:-1]\n",
    "    line = line.replace(\"[\", \"\")\n",
    "    line = line.replace(\"]\", \"\")\n",
    "\n",
    "    # Split the line at the comma to separate the id from the rest\n",
    "    id, rating, review = line.split(\", \", 2)\n",
    "    \n",
    "    id.replace(\"(\", \"\")\n",
    "\n",
    "    # Convert id_part to an integer\n",
    "    numerical_id = int(id)\n",
    "    \n",
    "    \n",
    "    # Convert float_part to a float\n",
    "    rating = rating.strip(\"(\")\n",
    "    try:\n",
    "        float_number = float(rating)\n",
    "    except ValueError:\n",
    "        print(f\"Error: Could not convert {rating} to a float., id = {numerical_id}\")\n",
    "    \n",
    "    # Remove the surrounding quotes from the review part\n",
    "    review_string = review.strip(\"'\").strip(')')\n",
    "\n",
    "\n",
    "    # Return the numerical ID, float number, and review string as a tuple\n",
    "    return numerical_id, (float_number, review_string)\n",
    "\n",
    "def read_file_and_extract_data(file_path):\n",
    "    data_dict = {}\n",
    "    \n",
    "    # Open the file and read each line\n",
    "    with open(file_path, 'r') as file:\n",
    "        for line in file:\n",
    "            # Parse each line\n",
    "            numerical_id, value_tuple  = parse_line(line)\n",
    "            \n",
    "            # Store the parsed data in the dictionary\n",
    "            data_dict[numerical_id] = value_tuple\n",
    "    \n",
    "    # Return the dictionary containing the extracted data\n",
    "    return data_dict\n",
    "\n",
    "def write_data_dict_to_file(data_dict, output_file_path):\n",
    "    # Open the output file in write mode\n",
    "    with open(output_file_path, 'a') as file:\n",
    "        # Iterate over each key-value pair in the dictionary\n",
    "        for numerical_id, value_tuple in data_dict.items():\n",
    "\n",
    "            float_number, review_string = value_tuple\n",
    "            line = f\"{numerical_id}, ({float_number}, '{review_string}')\\n\"\n",
    "            \n",
    "            # Write the formatted line to the file\n",
    "            file.write(line)"
   ]
  },
  {
   "cell_type": "code",
   "execution_count": 8,
   "metadata": {},
   "outputs": [
    {
     "name": "stdout",
     "output_type": "stream",
     "text": [
      "Part files found: 35\n"
     ]
    }
   ],
   "source": [
    "def find_part_files(directory):\n",
    "    # Define the pattern to match part files (e.g., \"part-00000\" to \"part-00034\")\n",
    "    pattern = re.compile(r\"part-000[0-3][0-9]$\")\n",
    "\n",
    "    # List to hold the part files\n",
    "    part_files = []\n",
    "\n",
    "    # Iterate through each file in the directory\n",
    "    for file_name in os.listdir(directory):\n",
    "        # Check if the file name matches the pattern\n",
    "        if pattern.match(file_name):\n",
    "            # Add the file name to the list\n",
    "            part_files.append(file_name)\n",
    "    \n",
    "    return part_files\n",
    "\n",
    "directory_path = \"/Users/sebastianodarconso/Desktop/università/magistrale_progetti/big_data_final/output_data\"  \n",
    "\n",
    "# Find the part files in the specified directory\n",
    "part_files = find_part_files(directory_path)\n",
    "part_files = sorted(part_files)\n",
    "\n",
    "# Print the list of part files\n",
    "print(f\"Part files found: {len(part_files)}\")"
   ]
  },
  {
   "cell_type": "markdown",
   "metadata": {},
   "source": [
    "## Merge all files"
   ]
  },
  {
   "cell_type": "code",
   "execution_count": 10,
   "metadata": {},
   "outputs": [
    {
     "name": "stdout",
     "output_type": "stream",
     "text": [
      "Removed existing directory merged_data.txt...\n",
      "Merging all files...\n",
      "\n"
     ]
    },
    {
     "name": "stderr",
     "output_type": "stream",
     "text": [
      "100%|██████████| 35/35 [00:02<00:00, 15.87it/s]\n"
     ]
    }
   ],
   "source": [
    "output_file_path = \"merged_data.txt\"\n",
    "\n",
    "if os.path.exists(output_file_path):\n",
    "    os.remove(output_file_path)\n",
    "    print(f\"Removed existing directory {output_file_path}...\")\n",
    "\n",
    "print(\"Merging all files...\\n\")\n",
    "for file in tqdm(part_files):\n",
    "    file_path = \"/Users/sebastianodarconso/Desktop/università/magistrale_progetti/big_data_final/output_data/\"\n",
    "    file_path = file_path + file\n",
    "    try:\n",
    "        data = read_file_and_extract_data(file_path)\n",
    "    except Exception as e:\n",
    "        print(f\"Error reading file {file_path}: {e}\")\n",
    "    write_data_dict_to_file(data, output_file_path)"
   ]
  },
  {
   "cell_type": "code",
   "execution_count": 11,
   "metadata": {},
   "outputs": [
    {
     "name": "stdout",
     "output_type": "stream",
     "text": [
      "We found 3945 hotels.\n"
     ]
    }
   ],
   "source": [
    "lines = 0\n",
    "with open('merged_data.txt', 'r') as file:\n",
    "    text = file.readlines()\n",
    "    for line in text:\n",
    "        lines += 1\n",
    "\n",
    "print(f\"We found {lines} hotels.\")"
   ]
  },
  {
   "cell_type": "code",
   "execution_count": 12,
   "metadata": {},
   "outputs": [],
   "source": [
    "def extract_info(line):\n",
    "    id_hotel = line.split(',', 1)[0].replace('(', '').strip().replace(\"'\", '')\n",
    "    rating = line.split(',', 2)[1].replace('(', '').strip().replace(\"'\", '')\n",
    "    line = line.split(',', 2)[2].replace('\"', '').strip()\n",
    "    line = line.replace(\"'\", '').strip()\n",
    "    reviews = line.split(' ******* ')\n",
    "    num_rews = len(reviews)\t \n",
    "\n",
    "    return id_hotel, rating, num_rews, reviews"
   ]
  },
  {
   "cell_type": "code",
   "execution_count": 13,
   "metadata": {},
   "outputs": [],
   "source": [
    "import math\n",
    "\n",
    "# Given values\n",
    "def n_sample_size(N):\n",
    "    Z = 1.96  # Z-score for 95% confidence\n",
    "    E = 0.05  # Margin of error (5%)\n",
    "    p = 0.5   # Expected proportion\n",
    "\n",
    "    # Sample size formula for finite population\n",
    "    n = (N * Z**2 * p * (1 - p)) / ((E**2 * (N - 1)) + (Z**2 * p * (1 - p)))\n",
    "    n = math.ceil(n)  # Always round up to the next whole number\n",
    "\n",
    "    return n"
   ]
  },
  {
   "cell_type": "markdown",
   "metadata": {},
   "source": [
    "## Sentiment analysis"
   ]
  },
  {
   "cell_type": "code",
   "execution_count": null,
   "metadata": {},
   "outputs": [],
   "source": [
    "# import random \n",
    "\n",
    "# line_dict = {}\n",
    "# review_sentiments = []\n",
    "# reviewd_hotels = []\n",
    "# with open('merged_data.txt', 'r') as file:\n",
    "# \tlines = file.readlines()\n",
    "\n",
    "# \tfor line in tqdm(lines):\n",
    "# \t\tid_hotel, rating, num_rews, reviews = extract_info(line)\n",
    "# \t\tif num_rews < 1000:\n",
    "# \t\t\tcontinue\n",
    "\t\t\n",
    "# \t\treviewd_hotels.append(id_hotel)\n",
    "\n",
    "# \t\tsentiments = []\n",
    "# \t\tsentiment_scores = []\n",
    "# \t\tfor review in random.sample(reviews, n_sample_size(num_rews)):\n",
    "# \t\t\tif review == '':\n",
    "# \t\t\t\tcontinue\n",
    "\t\t\t\n",
    "# \t\t\tsentence = Sentence(review)\n",
    "# \t\t\tclassifier.predict(sentence)\n",
    "\t\t\t\n",
    "# \t\t\tsentiment = sentence.labels[0].value\n",
    "# \t\t\tsentiment_score = sentence.labels[0].score\n",
    "\n",
    "# \t\t\tsentiments.append(score_to_value[sentiment] * sentiment_score)\n",
    "# \t\t\tsentiment_scores.append(sentiment_score)\n",
    "\n",
    "# \t\t\treview_sentiments.append((review, sentiment, sentiment_score))\n",
    "\t\t\n",
    "# \t\tavg_sentiment = np.mean(sentiments)\n",
    "# \t\tavg_sentiment_score = np.mean(sentiment_scores)\n",
    "\t\t\n",
    "# \t\tline_dict[id_hotel] = (\tround(avg_sentiment, 4), \n",
    "# \t\t\t\t\t\t \t\tround(float(rating), 4), \n",
    "# \t\t\t\t\t\t\t\tround((avg_sentiment/2.0) * 5.0, 4), \n",
    "# \t\t\t\t\t\t\t\tround(avg_sentiment_score, 4), num_rews)\n",
    "\t\t\n",
    "\n",
    "# with open('review_sentiments.csv', 'w', newline='') as csvfile:\n",
    "# \tcsvwriter = csv.writer(csvfile)\n",
    "# \tcsvwriter.writerow(['Review', 'Sentiment', 'Sentiment Score'])\n",
    "# \tfor review, sentiment, sentiment_score in review_sentiments:\n",
    "# \t\tcsvwriter.writerow([review, score_to_value[sentiment], round(sentiment_score, 4)])\n"
   ]
  },
  {
   "cell_type": "code",
   "execution_count": null,
   "metadata": {},
   "outputs": [],
   "source": [
    "# df = pd.DataFrame.from_dict(line_dict, orient='index', columns=['avg_sentiment', 'avg_rating', 'final_score', 'avg_sentiment_score', 'num_reviews'])\n",
    "# df['hotel_id'] = df.index\n",
    "# df = df[['hotel_id', 'avg_sentiment', 'avg_rating', 'final_score', 'avg_sentiment_score', 'num_reviews']]\n",
    "# df = df.sort_values(by=['num_reviews' ,'avg_sentiment', 'avg_sentiment_score', 'avg_rating', 'final_score'], ascending=[False, False, False, False, False])\n",
    "# #add a new column with num_reviews cliped to 100\n",
    "# df['num_reviews_clipped'] = df['num_reviews'].clip(0, 100)\n",
    "# df.to_csv('final_scores.csv', index=False)"
   ]
  },
  {
   "cell_type": "code",
   "execution_count": 14,
   "metadata": {},
   "outputs": [],
   "source": [
    "df = pd.read_csv('final_scores.csv')\n",
    "df = df.sort_values(by=['final_score ' ,'avg_sentiment ', 'avg_rating ', 'avg_sentiment_score ', 'num_reviews '], ascending=[False, False, False, False, False])\n",
    "df.to_csv('final_scores_sorted.csv', index=False)"
   ]
  },
  {
   "cell_type": "code",
   "execution_count": 15,
   "metadata": {},
   "outputs": [
    {
     "data": {
      "application/vnd.plotly.v1+json": {
       "config": {
        "plotlyServerURL": "https://plot.ly"
       },
       "data": [
        {
         "customdata": [
          [
           93340,
           1393
          ],
          [
           224221,
           1682
          ],
          [
           113317,
           2340
          ],
          [
           1503474,
           1842
          ],
          [
           84502,
           1275
          ],
          [
           99762,
           1404
          ],
          [
           1566945,
           1042
          ],
          [
           93457,
           2198
          ],
          [
           93338,
           1348
          ],
          [
           100507,
           1049
          ],
          [
           292142,
           2247
          ],
          [
           1218792,
           1903
          ],
          [
           99352,
           2657
          ],
          [
           1465162,
           1913
          ],
          [
           258705,
           1532
          ],
          [
           217498,
           1401
          ],
          [
           224948,
           1564
          ],
          [
           208454,
           2898
          ],
          [
           115644,
           2601
          ],
          [
           578305,
           1032
          ],
          [
           81394,
           1476
          ],
          [
           93346,
           2816
          ],
          [
           1456416,
           1118
          ],
          [
           266157,
           1543
          ],
          [
           93396,
           1057
          ],
          [
           93589,
           1239
          ],
          [
           2079052,
           2289
          ],
          [
           235513,
           1267
          ],
          [
           1456560,
           1097
          ],
          [
           80780,
           1346
          ],
          [
           114134,
           1608
          ],
          [
           99392,
           1665
          ],
          [
           223024,
           1195
          ],
          [
           236299,
           1316
          ],
          [
           93435,
           1388
          ],
          [
           1158753,
           1200
          ],
          [
           83040,
           1523
          ],
          [
           217844,
           1577
          ],
          [
           94371,
           1126
          ],
          [
           93358,
           2641
          ],
          [
           224214,
           1177
          ],
          [
           321151,
           1440
          ],
          [
           93569,
           2886
          ],
          [
           93352,
           2550
          ],
          [
           113300,
           1008
          ],
          [
           217616,
           1269
          ],
          [
           122343,
           1062
          ],
          [
           268533,
           2360
          ],
          [
           502408,
           1298
          ],
          [
           126260,
           2175
          ],
          [
           99535,
           1253
          ],
          [
           126257,
           1044
          ],
          [
           612263,
           1477
          ],
          [
           80925,
           1310
          ],
          [
           81019,
           1533
          ],
          [
           84093,
           1855
          ],
          [
           93543,
           1793
          ],
          [
           122005,
           3726
          ],
          [
           93622,
           1022
          ],
          [
           93516,
           2782
          ],
          [
           93379,
           1002
          ],
          [
           81169,
           1224
          ],
          [
           1646128,
           1284
          ],
          [
           208453,
           1688
          ],
          [
           114942,
           1084
          ],
          [
           217813,
           1054
          ],
          [
           99425,
           1010
          ],
          [
           80668,
           1168
          ],
          [
           630409,
           1331
          ],
          [
           217626,
           1015
          ],
          [
           209382,
           1386
          ],
          [
           109413,
           1605
          ],
          [
           99288,
           2378
          ],
          [
           112064,
           1250
          ],
          [
           518280,
           1383
          ],
          [
           93571,
           1084
          ],
          [
           665258,
           1154
          ],
          [
           224223,
           1010
          ],
          [
           114595,
           1175
          ],
          [
           80793,
           1440
          ],
          [
           93562,
           3170
          ],
          [
           249712,
           2865
          ],
          [
           113905,
           1054
          ],
          [
           93390,
           1448
          ],
          [
           93507,
           2839
          ],
          [
           93437,
           3034
          ],
          [
           89599,
           1929
          ],
          [
           93345,
           1128
          ],
          [
           81397,
           1330
          ],
          [
           262330,
           1568
          ],
          [
           78694,
           1053
          ],
          [
           80999,
           1250
          ],
          [
           290978,
           1489
          ],
          [
           93454,
           2582
          ],
          [
           676408,
           1078
          ],
          [
           1601249,
           1238
          ],
          [
           87638,
           1662
          ],
          [
           93517,
           2273
          ],
          [
           114581,
           1085
          ],
          [
           89617,
           1173
          ],
          [
           78046,
           1407
          ],
          [
           100562,
           1321
          ],
          [
           83646,
           1004
          ],
          [
           235238,
           1650
          ],
          [
           81192,
           2486
          ],
          [
           93579,
           1203
          ],
          [
           81315,
           1120
          ],
          [
           99766,
           3218
          ],
          [
           84087,
           1375
          ],
          [
           99307,
           2783
          ],
          [
           90985,
           1036
          ],
          [
           81103,
           1070
          ],
          [
           87620,
           1332
          ],
          [
           93462,
           2090
          ],
          [
           220240,
           1040
          ],
          [
           93464,
           2358
          ],
          [
           80602,
           1243
          ],
          [
           115617,
           1101
          ],
          [
           81042,
           1213
          ],
          [
           111501,
           2675
          ],
          [
           654030,
           1215
          ],
          [
           89602,
           1314
          ],
          [
           81222,
           1078
          ],
          [
           93450,
           2867
          ],
          [
           93520,
           4009
          ],
          [
           80219,
           1479
          ],
          [
           93486,
           2044
          ],
          [
           93618,
           3534
          ],
          [
           93545,
           1129
          ],
          [
           81377,
           1053
          ],
          [
           115484,
           1124
          ],
          [
           84167,
           1359
          ],
          [
           87617,
           2305
          ],
          [
           1938661,
           1642
          ],
          [
           611947,
           3004
          ],
          [
           93526,
           1149
          ],
          [
           100570,
           1392
          ],
          [
           81295,
           2336
          ],
          [
           93344,
           1558
          ],
          [
           81375,
           1553
          ],
          [
           80562,
           1568
          ],
          [
           112328,
           1139
          ],
          [
           77866,
           1022
          ],
          [
           208191,
           1323
          ],
          [
           119443,
           1297
          ],
          [
           93466,
           1832
          ],
          [
           119728,
           1650
          ],
          [
           75711,
           1024
          ],
          [
           87590,
           1226
          ],
          [
           223049,
           1027
          ],
          [
           81461,
           1923
          ],
          [
           77874,
           1073
          ],
          [
           223023,
           3385
          ],
          [
           77274,
           1101
          ],
          [
           111418,
           2091
          ],
          [
           112066,
           2042
          ],
          [
           214197,
           5456
          ],
          [
           93421,
           2320
          ]
         ],
         "hovertemplate": "avg_rating =%{marker.color}<br>final_score =%{y}<br>num_reviews_clipped=%{marker.size}<br>hotel_id =%{customdata[0]}<br>num_reviews =%{customdata[1]}<extra></extra>",
         "legendgroup": "",
         "marker": {
          "color": [
           4.7108,
           4.5552,
           4.4336,
           4.7154,
           4.4977,
           4.5367,
           4.224,
           4.7089,
           4.3489,
           4.6613,
           4.6213,
           4.5681,
           4.6033,
           4.6635,
           4.1508,
           4.5403,
           4.5445,
           4.7144,
           4.2535,
           4.5819,
           4.5375,
           4.0952,
           4.5817,
           4.247,
           3.0495,
           4.2194,
           4.1967,
           3.9726,
           4.9608,
           4.2556,
           4.4265,
           4.1818,
           4.2292,
           4.2875,
           3.6877,
           3.9954,
           4.6172,
           4.495,
           4.358,
           3.7375,
           4.4728,
           4.7363,
           4.0383,
           4.0544,
           3.4877,
           4.4907,
           4.2437,
           4.5858,
           4.2013,
           4.6286,
           4.6741,
           4.0671,
           3.0847,
           4.3213,
           3.4275,
           4.256,
           3.8365,
           4.2587,
           3.3262,
           4.2292,
           3.8679,
           4.4019,
           4.7179,
           4.3226,
           4.6204,
           4.4394,
           3.2018,
           4.5464,
           3.9819,
           4.656,
           4.0126,
           4.8167,
           4.5128,
           4.7822,
           3.9387,
           4.2475,
           4.1475,
           4.0316,
           4.7586,
           4.2015,
           4.4005,
           3.9876,
           4.29,
           3.7843,
           4.3959,
           3.3723,
           4.2213,
           3.4444,
           3.6653,
           4.5597,
           4.3327,
           4.0372,
           3.4969,
           4.285,
           4.7547,
           4.643,
           4.4784,
           4.2595,
           4.0477,
           4.289,
           3.8485,
           4.5931,
           4.0278,
           3.8231,
           3.751,
           3.7836,
           4.5705,
           3.9796,
           3.9866,
           3.7879,
           4.2565,
           4.0081,
           4.0239,
           3.5509,
           4.1352,
           3.5934,
           3.1791,
           4.594,
           3.1508,
           4.0149,
           3.9745,
           4.0816,
           4.0106,
           4.0377,
           3.2482,
           4.4545,
           3.5159,
           3.4997,
           3.6161,
           4.1249,
           4.3089,
           3.817,
           3.3514,
           3.2464,
           3.4722,
           3.2553,
           4.0491,
           3.4723,
           3.4963,
           3.176,
           3.7606,
           4.4718,
           3.5644,
           4.2168,
           3.3957,
           3.7446,
           3.6325,
           3.2644,
           3.8813,
           4.1098,
           3.4537,
           3.7088,
           3.4124,
           3.0693,
           3.6041,
           4.1398,
           2.6988,
           2.7013
          ],
          "coloraxis": "coloraxis",
          "size": [
           100,
           100,
           100,
           100,
           100,
           100,
           100,
           100,
           100,
           100,
           100,
           100,
           100,
           100,
           100,
           100,
           100,
           100,
           100,
           100,
           100,
           100,
           100,
           100,
           100,
           100,
           100,
           100,
           100,
           100,
           100,
           100,
           100,
           100,
           100,
           100,
           100,
           100,
           100,
           100,
           100,
           100,
           100,
           100,
           100,
           100,
           100,
           100,
           100,
           100,
           100,
           100,
           100,
           100,
           100,
           100,
           100,
           100,
           100,
           100,
           100,
           100,
           100,
           100,
           100,
           100,
           100,
           100,
           100,
           100,
           100,
           100,
           100,
           100,
           100,
           100,
           100,
           100,
           100,
           100,
           100,
           100,
           100,
           100,
           100,
           100,
           100,
           100,
           100,
           100,
           100,
           100,
           100,
           100,
           100,
           100,
           100,
           100,
           100,
           100,
           100,
           100,
           100,
           100,
           100,
           100,
           100,
           100,
           100,
           100,
           100,
           100,
           100,
           100,
           100,
           100,
           100,
           100,
           100,
           100,
           100,
           100,
           100,
           100,
           100,
           100,
           100,
           100,
           100,
           100,
           100,
           100,
           100,
           100,
           100,
           100,
           100,
           100,
           100,
           100,
           100,
           100,
           100,
           100,
           100,
           100,
           100,
           100,
           100,
           100,
           100,
           100,
           100,
           100,
           100,
           100,
           100,
           100
          ],
          "sizemode": "area",
          "sizeref": 0.25,
          "symbol": "circle"
         },
         "mode": "markers",
         "name": "",
         "orientation": "v",
         "showlegend": false,
         "type": "scatter",
         "x": [
          4.7108,
          4.5552,
          4.4336,
          4.7154,
          4.4977,
          4.5367,
          4.224,
          4.7089,
          4.3489,
          4.6613,
          4.6213,
          4.5681,
          4.6033,
          4.6635,
          4.1508,
          4.5403,
          4.5445,
          4.7144,
          4.2535,
          4.5819,
          4.5375,
          4.0952,
          4.5817,
          4.247,
          3.0495,
          4.2194,
          4.1967,
          3.9726,
          4.9608,
          4.2556,
          4.4265,
          4.1818,
          4.2292,
          4.2875,
          3.6877,
          3.9954,
          4.6172,
          4.495,
          4.358,
          3.7375,
          4.4728,
          4.7363,
          4.0383,
          4.0544,
          3.4877,
          4.4907,
          4.2437,
          4.5858,
          4.2013,
          4.6286,
          4.6741,
          4.0671,
          3.0847,
          4.3213,
          3.4275,
          4.256,
          3.8365,
          4.2587,
          3.3262,
          4.2292,
          3.8679,
          4.4019,
          4.7179,
          4.3226,
          4.6204,
          4.4394,
          3.2018,
          4.5464,
          3.9819,
          4.656,
          4.0126,
          4.8167,
          4.5128,
          4.7822,
          3.9387,
          4.2475,
          4.1475,
          4.0316,
          4.7586,
          4.2015,
          4.4005,
          3.9876,
          4.29,
          3.7843,
          4.3959,
          3.3723,
          4.2213,
          3.4444,
          3.6653,
          4.5597,
          4.3327,
          4.0372,
          3.4969,
          4.285,
          4.7547,
          4.643,
          4.4784,
          4.2595,
          4.0477,
          4.289,
          3.8485,
          4.5931,
          4.0278,
          3.8231,
          3.751,
          3.7836,
          4.5705,
          3.9796,
          3.9866,
          3.7879,
          4.2565,
          4.0081,
          4.0239,
          3.5509,
          4.1352,
          3.5934,
          3.1791,
          4.594,
          3.1508,
          4.0149,
          3.9745,
          4.0816,
          4.0106,
          4.0377,
          3.2482,
          4.4545,
          3.5159,
          3.4997,
          3.6161,
          4.1249,
          4.3089,
          3.817,
          3.3514,
          3.2464,
          3.4722,
          3.2553,
          4.0491,
          3.4723,
          3.4963,
          3.176,
          3.7606,
          4.4718,
          3.5644,
          4.2168,
          3.3957,
          3.7446,
          3.6325,
          3.2644,
          3.8813,
          4.1098,
          3.4537,
          3.7088,
          3.4124,
          3.0693,
          3.6041,
          4.1398,
          2.6988,
          2.7013
         ],
         "xaxis": "x",
         "y": [
          4.6669,
          4.6462,
          4.6149,
          4.6063,
          4.5992,
          4.5892,
          4.5717,
          4.5624,
          4.5389,
          4.5291,
          4.5187,
          4.5163,
          4.5093,
          4.5033,
          4.5005,
          4.486,
          4.4817,
          4.4768,
          4.4477,
          4.4356,
          4.4274,
          4.4234,
          4.3958,
          4.386,
          4.377,
          4.3661,
          4.3597,
          4.3393,
          4.3331,
          4.3292,
          4.3283,
          4.3263,
          4.3188,
          4.3184,
          4.2963,
          4.2936,
          4.2918,
          4.281,
          4.271,
          4.2574,
          4.25,
          4.2243,
          4.2222,
          4.2212,
          4.2,
          4.1809,
          4.1747,
          4.1715,
          4.1676,
          4.1661,
          4.1476,
          4.1415,
          4.1408,
          4.1312,
          4.1007,
          4.0961,
          4.0961,
          4.091,
          4.0905,
          4.0761,
          4.0602,
          4.0456,
          4.0155,
          4.0106,
          4.0056,
          3.9971,
          3.9824,
          3.9707,
          3.9677,
          3.955,
          3.9522,
          3.932,
          3.9285,
          3.9245,
          3.9222,
          3.9205,
          3.911,
          3.9095,
          3.908,
          3.8877,
          3.8673,
          3.8595,
          3.8547,
          3.8407,
          3.8252,
          3.7893,
          3.7883,
          3.7774,
          3.7556,
          3.7553,
          3.7496,
          3.7391,
          3.7371,
          3.7343,
          3.7204,
          3.6948,
          3.6729,
          3.6612,
          3.6571,
          3.6482,
          3.6426,
          3.6399,
          3.6375,
          3.6211,
          3.6159,
          3.5941,
          3.5749,
          3.5704,
          3.5696,
          3.5684,
          3.5414,
          3.5306,
          3.5087,
          3.5053,
          3.5023,
          3.4938,
          3.4793,
          3.4746,
          3.4551,
          3.418,
          3.398,
          3.3572,
          3.3468,
          3.344,
          3.3433,
          3.3427,
          3.3307,
          3.329,
          3.3094,
          3.2903,
          3.2747,
          3.2599,
          3.257,
          3.2549,
          3.2319,
          3.2121,
          3.2053,
          3.1929,
          3.1839,
          3.1664,
          3.1195,
          3.0998,
          3.0946,
          3.0936,
          3.0697,
          3.0585,
          3.0581,
          3.002,
          2.9552,
          2.9104,
          2.8805,
          2.8787,
          2.8562,
          2.8268,
          2.763,
          2.7458,
          2.5851,
          2.321
         ],
         "yaxis": "y"
        }
       ],
       "layout": {
        "coloraxis": {
         "colorbar": {
          "title": {
           "text": "avg_rating "
          }
         },
         "colorscale": [
          [
           0,
           "#0d0887"
          ],
          [
           0.1111111111111111,
           "#46039f"
          ],
          [
           0.2222222222222222,
           "#7201a8"
          ],
          [
           0.3333333333333333,
           "#9c179e"
          ],
          [
           0.4444444444444444,
           "#bd3786"
          ],
          [
           0.5555555555555556,
           "#d8576b"
          ],
          [
           0.6666666666666666,
           "#ed7953"
          ],
          [
           0.7777777777777778,
           "#fb9f3a"
          ],
          [
           0.8888888888888888,
           "#fdca26"
          ],
          [
           1,
           "#f0f921"
          ]
         ]
        },
        "legend": {
         "itemsizing": "constant",
         "tracegroupgap": 0
        },
        "margin": {
         "t": 60
        },
        "template": {
         "data": {
          "bar": [
           {
            "error_x": {
             "color": "#2a3f5f"
            },
            "error_y": {
             "color": "#2a3f5f"
            },
            "marker": {
             "line": {
              "color": "#E5ECF6",
              "width": 0.5
             },
             "pattern": {
              "fillmode": "overlay",
              "size": 10,
              "solidity": 0.2
             }
            },
            "type": "bar"
           }
          ],
          "barpolar": [
           {
            "marker": {
             "line": {
              "color": "#E5ECF6",
              "width": 0.5
             },
             "pattern": {
              "fillmode": "overlay",
              "size": 10,
              "solidity": 0.2
             }
            },
            "type": "barpolar"
           }
          ],
          "carpet": [
           {
            "aaxis": {
             "endlinecolor": "#2a3f5f",
             "gridcolor": "white",
             "linecolor": "white",
             "minorgridcolor": "white",
             "startlinecolor": "#2a3f5f"
            },
            "baxis": {
             "endlinecolor": "#2a3f5f",
             "gridcolor": "white",
             "linecolor": "white",
             "minorgridcolor": "white",
             "startlinecolor": "#2a3f5f"
            },
            "type": "carpet"
           }
          ],
          "choropleth": [
           {
            "colorbar": {
             "outlinewidth": 0,
             "ticks": ""
            },
            "type": "choropleth"
           }
          ],
          "contour": [
           {
            "colorbar": {
             "outlinewidth": 0,
             "ticks": ""
            },
            "colorscale": [
             [
              0,
              "#0d0887"
             ],
             [
              0.1111111111111111,
              "#46039f"
             ],
             [
              0.2222222222222222,
              "#7201a8"
             ],
             [
              0.3333333333333333,
              "#9c179e"
             ],
             [
              0.4444444444444444,
              "#bd3786"
             ],
             [
              0.5555555555555556,
              "#d8576b"
             ],
             [
              0.6666666666666666,
              "#ed7953"
             ],
             [
              0.7777777777777778,
              "#fb9f3a"
             ],
             [
              0.8888888888888888,
              "#fdca26"
             ],
             [
              1,
              "#f0f921"
             ]
            ],
            "type": "contour"
           }
          ],
          "contourcarpet": [
           {
            "colorbar": {
             "outlinewidth": 0,
             "ticks": ""
            },
            "type": "contourcarpet"
           }
          ],
          "heatmap": [
           {
            "colorbar": {
             "outlinewidth": 0,
             "ticks": ""
            },
            "colorscale": [
             [
              0,
              "#0d0887"
             ],
             [
              0.1111111111111111,
              "#46039f"
             ],
             [
              0.2222222222222222,
              "#7201a8"
             ],
             [
              0.3333333333333333,
              "#9c179e"
             ],
             [
              0.4444444444444444,
              "#bd3786"
             ],
             [
              0.5555555555555556,
              "#d8576b"
             ],
             [
              0.6666666666666666,
              "#ed7953"
             ],
             [
              0.7777777777777778,
              "#fb9f3a"
             ],
             [
              0.8888888888888888,
              "#fdca26"
             ],
             [
              1,
              "#f0f921"
             ]
            ],
            "type": "heatmap"
           }
          ],
          "heatmapgl": [
           {
            "colorbar": {
             "outlinewidth": 0,
             "ticks": ""
            },
            "colorscale": [
             [
              0,
              "#0d0887"
             ],
             [
              0.1111111111111111,
              "#46039f"
             ],
             [
              0.2222222222222222,
              "#7201a8"
             ],
             [
              0.3333333333333333,
              "#9c179e"
             ],
             [
              0.4444444444444444,
              "#bd3786"
             ],
             [
              0.5555555555555556,
              "#d8576b"
             ],
             [
              0.6666666666666666,
              "#ed7953"
             ],
             [
              0.7777777777777778,
              "#fb9f3a"
             ],
             [
              0.8888888888888888,
              "#fdca26"
             ],
             [
              1,
              "#f0f921"
             ]
            ],
            "type": "heatmapgl"
           }
          ],
          "histogram": [
           {
            "marker": {
             "pattern": {
              "fillmode": "overlay",
              "size": 10,
              "solidity": 0.2
             }
            },
            "type": "histogram"
           }
          ],
          "histogram2d": [
           {
            "colorbar": {
             "outlinewidth": 0,
             "ticks": ""
            },
            "colorscale": [
             [
              0,
              "#0d0887"
             ],
             [
              0.1111111111111111,
              "#46039f"
             ],
             [
              0.2222222222222222,
              "#7201a8"
             ],
             [
              0.3333333333333333,
              "#9c179e"
             ],
             [
              0.4444444444444444,
              "#bd3786"
             ],
             [
              0.5555555555555556,
              "#d8576b"
             ],
             [
              0.6666666666666666,
              "#ed7953"
             ],
             [
              0.7777777777777778,
              "#fb9f3a"
             ],
             [
              0.8888888888888888,
              "#fdca26"
             ],
             [
              1,
              "#f0f921"
             ]
            ],
            "type": "histogram2d"
           }
          ],
          "histogram2dcontour": [
           {
            "colorbar": {
             "outlinewidth": 0,
             "ticks": ""
            },
            "colorscale": [
             [
              0,
              "#0d0887"
             ],
             [
              0.1111111111111111,
              "#46039f"
             ],
             [
              0.2222222222222222,
              "#7201a8"
             ],
             [
              0.3333333333333333,
              "#9c179e"
             ],
             [
              0.4444444444444444,
              "#bd3786"
             ],
             [
              0.5555555555555556,
              "#d8576b"
             ],
             [
              0.6666666666666666,
              "#ed7953"
             ],
             [
              0.7777777777777778,
              "#fb9f3a"
             ],
             [
              0.8888888888888888,
              "#fdca26"
             ],
             [
              1,
              "#f0f921"
             ]
            ],
            "type": "histogram2dcontour"
           }
          ],
          "mesh3d": [
           {
            "colorbar": {
             "outlinewidth": 0,
             "ticks": ""
            },
            "type": "mesh3d"
           }
          ],
          "parcoords": [
           {
            "line": {
             "colorbar": {
              "outlinewidth": 0,
              "ticks": ""
             }
            },
            "type": "parcoords"
           }
          ],
          "pie": [
           {
            "automargin": true,
            "type": "pie"
           }
          ],
          "scatter": [
           {
            "fillpattern": {
             "fillmode": "overlay",
             "size": 10,
             "solidity": 0.2
            },
            "type": "scatter"
           }
          ],
          "scatter3d": [
           {
            "line": {
             "colorbar": {
              "outlinewidth": 0,
              "ticks": ""
             }
            },
            "marker": {
             "colorbar": {
              "outlinewidth": 0,
              "ticks": ""
             }
            },
            "type": "scatter3d"
           }
          ],
          "scattercarpet": [
           {
            "marker": {
             "colorbar": {
              "outlinewidth": 0,
              "ticks": ""
             }
            },
            "type": "scattercarpet"
           }
          ],
          "scattergeo": [
           {
            "marker": {
             "colorbar": {
              "outlinewidth": 0,
              "ticks": ""
             }
            },
            "type": "scattergeo"
           }
          ],
          "scattergl": [
           {
            "marker": {
             "colorbar": {
              "outlinewidth": 0,
              "ticks": ""
             }
            },
            "type": "scattergl"
           }
          ],
          "scattermapbox": [
           {
            "marker": {
             "colorbar": {
              "outlinewidth": 0,
              "ticks": ""
             }
            },
            "type": "scattermapbox"
           }
          ],
          "scatterpolar": [
           {
            "marker": {
             "colorbar": {
              "outlinewidth": 0,
              "ticks": ""
             }
            },
            "type": "scatterpolar"
           }
          ],
          "scatterpolargl": [
           {
            "marker": {
             "colorbar": {
              "outlinewidth": 0,
              "ticks": ""
             }
            },
            "type": "scatterpolargl"
           }
          ],
          "scatterternary": [
           {
            "marker": {
             "colorbar": {
              "outlinewidth": 0,
              "ticks": ""
             }
            },
            "type": "scatterternary"
           }
          ],
          "surface": [
           {
            "colorbar": {
             "outlinewidth": 0,
             "ticks": ""
            },
            "colorscale": [
             [
              0,
              "#0d0887"
             ],
             [
              0.1111111111111111,
              "#46039f"
             ],
             [
              0.2222222222222222,
              "#7201a8"
             ],
             [
              0.3333333333333333,
              "#9c179e"
             ],
             [
              0.4444444444444444,
              "#bd3786"
             ],
             [
              0.5555555555555556,
              "#d8576b"
             ],
             [
              0.6666666666666666,
              "#ed7953"
             ],
             [
              0.7777777777777778,
              "#fb9f3a"
             ],
             [
              0.8888888888888888,
              "#fdca26"
             ],
             [
              1,
              "#f0f921"
             ]
            ],
            "type": "surface"
           }
          ],
          "table": [
           {
            "cells": {
             "fill": {
              "color": "#EBF0F8"
             },
             "line": {
              "color": "white"
             }
            },
            "header": {
             "fill": {
              "color": "#C8D4E3"
             },
             "line": {
              "color": "white"
             }
            },
            "type": "table"
           }
          ]
         },
         "layout": {
          "annotationdefaults": {
           "arrowcolor": "#2a3f5f",
           "arrowhead": 0,
           "arrowwidth": 1
          },
          "autotypenumbers": "strict",
          "coloraxis": {
           "colorbar": {
            "outlinewidth": 0,
            "ticks": ""
           }
          },
          "colorscale": {
           "diverging": [
            [
             0,
             "#8e0152"
            ],
            [
             0.1,
             "#c51b7d"
            ],
            [
             0.2,
             "#de77ae"
            ],
            [
             0.3,
             "#f1b6da"
            ],
            [
             0.4,
             "#fde0ef"
            ],
            [
             0.5,
             "#f7f7f7"
            ],
            [
             0.6,
             "#e6f5d0"
            ],
            [
             0.7,
             "#b8e186"
            ],
            [
             0.8,
             "#7fbc41"
            ],
            [
             0.9,
             "#4d9221"
            ],
            [
             1,
             "#276419"
            ]
           ],
           "sequential": [
            [
             0,
             "#0d0887"
            ],
            [
             0.1111111111111111,
             "#46039f"
            ],
            [
             0.2222222222222222,
             "#7201a8"
            ],
            [
             0.3333333333333333,
             "#9c179e"
            ],
            [
             0.4444444444444444,
             "#bd3786"
            ],
            [
             0.5555555555555556,
             "#d8576b"
            ],
            [
             0.6666666666666666,
             "#ed7953"
            ],
            [
             0.7777777777777778,
             "#fb9f3a"
            ],
            [
             0.8888888888888888,
             "#fdca26"
            ],
            [
             1,
             "#f0f921"
            ]
           ],
           "sequentialminus": [
            [
             0,
             "#0d0887"
            ],
            [
             0.1111111111111111,
             "#46039f"
            ],
            [
             0.2222222222222222,
             "#7201a8"
            ],
            [
             0.3333333333333333,
             "#9c179e"
            ],
            [
             0.4444444444444444,
             "#bd3786"
            ],
            [
             0.5555555555555556,
             "#d8576b"
            ],
            [
             0.6666666666666666,
             "#ed7953"
            ],
            [
             0.7777777777777778,
             "#fb9f3a"
            ],
            [
             0.8888888888888888,
             "#fdca26"
            ],
            [
             1,
             "#f0f921"
            ]
           ]
          },
          "colorway": [
           "#636efa",
           "#EF553B",
           "#00cc96",
           "#ab63fa",
           "#FFA15A",
           "#19d3f3",
           "#FF6692",
           "#B6E880",
           "#FF97FF",
           "#FECB52"
          ],
          "font": {
           "color": "#2a3f5f"
          },
          "geo": {
           "bgcolor": "white",
           "lakecolor": "white",
           "landcolor": "#E5ECF6",
           "showlakes": true,
           "showland": true,
           "subunitcolor": "white"
          },
          "hoverlabel": {
           "align": "left"
          },
          "hovermode": "closest",
          "mapbox": {
           "style": "light"
          },
          "paper_bgcolor": "white",
          "plot_bgcolor": "#E5ECF6",
          "polar": {
           "angularaxis": {
            "gridcolor": "white",
            "linecolor": "white",
            "ticks": ""
           },
           "bgcolor": "#E5ECF6",
           "radialaxis": {
            "gridcolor": "white",
            "linecolor": "white",
            "ticks": ""
           }
          },
          "scene": {
           "xaxis": {
            "backgroundcolor": "#E5ECF6",
            "gridcolor": "white",
            "gridwidth": 2,
            "linecolor": "white",
            "showbackground": true,
            "ticks": "",
            "zerolinecolor": "white"
           },
           "yaxis": {
            "backgroundcolor": "#E5ECF6",
            "gridcolor": "white",
            "gridwidth": 2,
            "linecolor": "white",
            "showbackground": true,
            "ticks": "",
            "zerolinecolor": "white"
           },
           "zaxis": {
            "backgroundcolor": "#E5ECF6",
            "gridcolor": "white",
            "gridwidth": 2,
            "linecolor": "white",
            "showbackground": true,
            "ticks": "",
            "zerolinecolor": "white"
           }
          },
          "shapedefaults": {
           "line": {
            "color": "#2a3f5f"
           }
          },
          "ternary": {
           "aaxis": {
            "gridcolor": "white",
            "linecolor": "white",
            "ticks": ""
           },
           "baxis": {
            "gridcolor": "white",
            "linecolor": "white",
            "ticks": ""
           },
           "bgcolor": "#E5ECF6",
           "caxis": {
            "gridcolor": "white",
            "linecolor": "white",
            "ticks": ""
           }
          },
          "title": {
           "x": 0.05
          },
          "xaxis": {
           "automargin": true,
           "gridcolor": "white",
           "linecolor": "white",
           "ticks": "",
           "title": {
            "standoff": 15
           },
           "zerolinecolor": "white",
           "zerolinewidth": 2
          },
          "yaxis": {
           "automargin": true,
           "gridcolor": "white",
           "linecolor": "white",
           "ticks": "",
           "title": {
            "standoff": 15
           },
           "zerolinecolor": "white",
           "zerolinewidth": 2
          }
         }
        },
        "title": {
         "text": "Scatter Plot of Final Score vs Average Rating for Hotels with at least 1000 Reviews"
        },
        "xaxis": {
         "anchor": "y",
         "domain": [
          0,
          1
         ],
         "title": {
          "text": "Average Rating"
         }
        },
        "yaxis": {
         "anchor": "x",
         "domain": [
          0,
          1
         ],
         "title": {
          "text": "Final Score"
         }
        }
       }
      }
     },
     "metadata": {},
     "output_type": "display_data"
    }
   ],
   "source": [
    "df = pd.read_csv('final_scores_sorted.csv')\n",
    "\n",
    "fig = px.scatter(df, x='avg_rating ', y='final_score ', color='avg_rating ', size='num_reviews_clipped', hover_data=['hotel_id ', 'num_reviews '])\n",
    "fig.update_traces(marker=dict(size=12,\n",
    "                              line=dict(width=2,\n",
    "                                        color='DarkSlateGrey')),\n",
    "                  selector=dict(mode='markers+text'))\n",
    "\n",
    "fig.update_layout(\n",
    "    yaxis_title=\"Final Score\",\n",
    "    xaxis_title=\"Average Rating\",\n",
    "    title=f\"Scatter Plot of Final Score vs Average Rating for Hotels with at least 1000 Reviews\",\n",
    ")\n",
    "fig.show()"
   ]
  },
  {
   "cell_type": "code",
   "execution_count": 16,
   "metadata": {},
   "outputs": [
    {
     "name": "stdout",
     "output_type": "stream",
     "text": [
      "Top 5 hotels with at least 1000 reviews:\n"
     ]
    },
    {
     "data": {
      "text/html": [
       "<div>\n",
       "<style scoped>\n",
       "    .dataframe tbody tr th:only-of-type {\n",
       "        vertical-align: middle;\n",
       "    }\n",
       "\n",
       "    .dataframe tbody tr th {\n",
       "        vertical-align: top;\n",
       "    }\n",
       "\n",
       "    .dataframe thead th {\n",
       "        text-align: right;\n",
       "    }\n",
       "</style>\n",
       "<table border=\"1\" class=\"dataframe\">\n",
       "  <thead>\n",
       "    <tr style=\"text-align: right;\">\n",
       "      <th></th>\n",
       "      <th>hotel_id</th>\n",
       "      <th>avg_sentiment</th>\n",
       "      <th>avg_rating</th>\n",
       "      <th>final_score</th>\n",
       "      <th>avg_sentiment_score</th>\n",
       "      <th>num_reviews</th>\n",
       "    </tr>\n",
       "  </thead>\n",
       "  <tbody>\n",
       "    <tr>\n",
       "      <th>0</th>\n",
       "      <td>93340</td>\n",
       "      <td>1.8668</td>\n",
       "      <td>4.7108</td>\n",
       "      <td>4.6669</td>\n",
       "      <td>0.9901</td>\n",
       "      <td>1393</td>\n",
       "    </tr>\n",
       "    <tr>\n",
       "      <th>1</th>\n",
       "      <td>224221</td>\n",
       "      <td>1.8585</td>\n",
       "      <td>4.5552</td>\n",
       "      <td>4.6462</td>\n",
       "      <td>0.9879</td>\n",
       "      <td>1682</td>\n",
       "    </tr>\n",
       "    <tr>\n",
       "      <th>2</th>\n",
       "      <td>113317</td>\n",
       "      <td>1.8459</td>\n",
       "      <td>4.4336</td>\n",
       "      <td>4.6149</td>\n",
       "      <td>0.9906</td>\n",
       "      <td>2340</td>\n",
       "    </tr>\n",
       "    <tr>\n",
       "      <th>3</th>\n",
       "      <td>1503474</td>\n",
       "      <td>1.8425</td>\n",
       "      <td>4.7154</td>\n",
       "      <td>4.6063</td>\n",
       "      <td>0.9822</td>\n",
       "      <td>1842</td>\n",
       "    </tr>\n",
       "    <tr>\n",
       "      <th>4</th>\n",
       "      <td>84502</td>\n",
       "      <td>1.8397</td>\n",
       "      <td>4.4977</td>\n",
       "      <td>4.5992</td>\n",
       "      <td>0.9840</td>\n",
       "      <td>1275</td>\n",
       "    </tr>\n",
       "  </tbody>\n",
       "</table>\n",
       "</div>"
      ],
      "text/plain": [
       "   hotel_id   avg_sentiment   avg_rating   final_score   avg_sentiment_score   \\\n",
       "0      93340          1.8668       4.7108        4.6669                0.9901   \n",
       "1     224221          1.8585       4.5552        4.6462                0.9879   \n",
       "2     113317          1.8459       4.4336        4.6149                0.9906   \n",
       "3    1503474          1.8425       4.7154        4.6063                0.9822   \n",
       "4      84502          1.8397       4.4977        4.5992                0.9840   \n",
       "\n",
       "   num_reviews   \n",
       "0          1393  \n",
       "1          1682  \n",
       "2          2340  \n",
       "3          1842  \n",
       "4          1275  "
      ]
     },
     "execution_count": 16,
     "metadata": {},
     "output_type": "execute_result"
    }
   ],
   "source": [
    "## print the top 5 hotels, with each hotel's average sentiment score, average rating, final score, and average sentiment score\n",
    "print(\"Top 5 hotels with at least 1000 reviews:\")\n",
    "df.drop(columns=['num_reviews_clipped']).head(5)"
   ]
  },
  {
   "cell_type": "markdown",
   "metadata": {},
   "source": [
    "## Sentiment analysis pyspark ML"
   ]
  },
  {
   "cell_type": "code",
   "execution_count": 17,
   "metadata": {},
   "outputs": [],
   "source": [
    "from pyspark.sql import SparkSession\n",
    "from pyspark.sql.types import *\n",
    "from pyspark.sql.functions import *\n",
    "from pyspark.ml.classification import LogisticRegression\n",
    "from pyspark.ml.feature import HashingTF, Tokenizer, StopWordsRemover"
   ]
  },
  {
   "cell_type": "code",
   "execution_count": 18,
   "metadata": {},
   "outputs": [],
   "source": [
    "appName=\"Sentimen Analysis Spark\"\n",
    "spark=SparkSession.builder.master('local').appName(appName).getOrCreate()"
   ]
  },
  {
   "cell_type": "code",
   "execution_count": 19,
   "metadata": {},
   "outputs": [
    {
     "name": "stdout",
     "output_type": "stream",
     "text": [
      "+--------------------+---------+---------------+\n",
      "|              Review|Sentiment|Sentiment Score|\n",
      "+--------------------+---------+---------------+\n",
      "|We stayed for fou...|        2|         0.9964|\n",
      "|Was in NYC with m...|        2|         0.9991|\n",
      "|Stayed at the Eve...|        2|         0.9999|\n",
      "+--------------------+---------+---------------+\n",
      "only showing top 3 rows\n",
      "\n"
     ]
    }
   ],
   "source": [
    "## reading the review sentiment csv file\n",
    "review_csv = spark.read.csv('review_sentiments.csv', header=True, inferSchema=True)\n",
    "review_csv.show(truncate=True, n=3)"
   ]
  },
  {
   "cell_type": "code",
   "execution_count": 20,
   "metadata": {},
   "outputs": [
    {
     "name": "stdout",
     "output_type": "stream",
     "text": [
      "+--------------------+-----+\n",
      "|              Review|label|\n",
      "+--------------------+-----+\n",
      "|We stayed for fou...|    2|\n",
      "|Was in NYC with m...|    2|\n",
      "|Stayed at the Eve...|    2|\n",
      "|Booked a flight+h...|    2|\n",
      "|After close to ov...|    2|\n",
      "+--------------------+-----+\n",
      "only showing top 5 rows\n",
      "\n"
     ]
    }
   ],
   "source": [
    "## selecting the review and sentiment columns\n",
    "data=review_csv.select(\n",
    "    \"Review\",col(\"Sentiment\").cast(\"Int\").alias(\"label\"))\n",
    "data.show(truncate=True, n=5)"
   ]
  },
  {
   "cell_type": "code",
   "execution_count": 21,
   "metadata": {},
   "outputs": [
    {
     "name": "stdout",
     "output_type": "stream",
     "text": [
      "Training Rows: 29613  Testing Rows: 7309\n"
     ]
    }
   ],
   "source": [
    "## splitting the data into training and testing\n",
    "split_data = data.randomSplit([0.8, 0.2])\n",
    "train = split_data[0]\n",
    "\n",
    "test = split_data[1].withColumnRenamed(\"label\", \"true_label\")\n",
    "train_rows = train.count()\n",
    "test_rows = test.count()\n",
    "\n",
    "print(\"Training Rows:\", train_rows, \" Testing Rows:\", test_rows)"
   ]
  },
  {
   "cell_type": "code",
   "execution_count": 22,
   "metadata": {},
   "outputs": [
    {
     "name": "stdout",
     "output_type": "stream",
     "text": [
      "+--------------------+-----+--------------------+\n",
      "|              Review|label|      SentimentWords|\n",
      "+--------------------+-----+--------------------+\n",
      "| …our stay was aw...|    2|[, …our, stay, wa...|\n",
      "|$15/day charge fo...|    0|[$15/day, charge,...|\n",
      "|$200+ hotel if bo...|    2|[$200+, hotel, if...|\n",
      "|$25 Disclosed Res...|    0|[$25, disclosed, ...|\n",
      "|$99 to stay on Ti...|    2|[$99, to, stay, o...|\n",
      "+--------------------+-----+--------------------+\n",
      "only showing top 5 rows\n",
      "\n"
     ]
    }
   ],
   "source": [
    "## tokenization of the review coloumn, adding and showing the words that influence the sentiment \n",
    "tokenizer = Tokenizer(inputCol=\"Review\", outputCol=\"SentimentWords\")\n",
    "tokenizedTrain = tokenizer.transform(train)\n",
    "tokenizedTrain.show(truncate=True, n=5)"
   ]
  },
  {
   "cell_type": "code",
   "execution_count": 32,
   "metadata": {},
   "outputs": [
    {
     "name": "stderr",
     "output_type": "stream",
     "text": [
      "24/06/13 12:22:35 WARN StopWordsRemover: Default locale set was [en_IT]; however, it was not found in available locales in JVM, falling back to en_US locale. Set param `locale` in order to respect another locale.\n"
     ]
    },
    {
     "name": "stdout",
     "output_type": "stream",
     "text": [
      "+--------------------+-----+--------------------+--------------------+\n",
      "|              Review|label|      SentimentWords|     MeaningfulWords|\n",
      "+--------------------+-----+--------------------+--------------------+\n",
      "| …our stay was aw...|    2|[, …our, stay, wa...|[, …our, stay, aw...|\n",
      "|$15/day charge fo...|    0|[$15/day, charge,...|[$15/day, charge,...|\n",
      "|$200+ hotel if bo...|    2|[$200+, hotel, if...|[$200+, hotel, bo...|\n",
      "|$25 Disclosed Res...|    0|[$25, disclosed, ...|[$25, disclosed, ...|\n",
      "|$99 to stay on Ti...|    2|[$99, to, stay, o...|[$99, stay, times...|\n",
      "+--------------------+-----+--------------------+--------------------+\n",
      "only showing top 5 rows\n",
      "\n"
     ]
    }
   ],
   "source": [
    "## removing stopwords, adding and showing the meaningful words\n",
    "swr = StopWordsRemover(inputCol=tokenizer.getOutputCol(), \n",
    "                       outputCol=\"MeaningfulWords\")\n",
    "SwRemovedTrain = swr.transform(tokenizedTrain)\n",
    "SwRemovedTrain.show(truncate=True, n=5)"
   ]
  },
  {
   "cell_type": "code",
   "execution_count": 24,
   "metadata": {},
   "outputs": [
    {
     "name": "stdout",
     "output_type": "stream",
     "text": [
      "+-----+--------------------+--------------------+\n",
      "|label|     MeaningfulWords|            features|\n",
      "+-----+--------------------+--------------------+\n",
      "|    2|[, …our, stay, aw...|(262144,[27616,61...|\n",
      "|    0|[$15/day, charge,...|(262144,[10024,60...|\n",
      "|    2|[$200+, hotel, bo...|(262144,[15585,16...|\n",
      "+-----+--------------------+--------------------+\n",
      "only showing top 3 rows\n",
      "\n"
     ]
    }
   ],
   "source": [
    "## hashing the meaningful words and showing the features\n",
    "hashTF = HashingTF(inputCol=swr.getOutputCol(), outputCol=\"features\")\n",
    "numericTrain = hashTF.transform(SwRemovedTrain).select(\n",
    "    'label', 'MeaningfulWords', 'features')\n",
    "numericTrain.show(truncate=True, n=3)"
   ]
  },
  {
   "cell_type": "code",
   "execution_count": 25,
   "metadata": {},
   "outputs": [
    {
     "name": "stderr",
     "output_type": "stream",
     "text": [
      "24/06/13 12:20:59 WARN InstanceBuilder: Failed to load implementation from:dev.ludovic.netlib.blas.JNIBLAS\n",
      "24/06/13 12:20:59 WARN InstanceBuilder: Failed to load implementation from:dev.ludovic.netlib.blas.VectorBLAS\n",
      "24/06/13 12:20:59 WARN GarbageCollectionMetrics: To enable non-built-in garbage collector(s) List(G1 Concurrent GC), users should configure it(them) to spark.eventLog.gcMetrics.youngGenerationGarbageCollectors or spark.eventLog.gcMetrics.oldGenerationGarbageCollectors\n",
      "                                                                                \r"
     ]
    },
    {
     "name": "stdout",
     "output_type": "stream",
     "text": [
      "Training Done\n"
     ]
    }
   ],
   "source": [
    "## training the model\n",
    "lr = LogisticRegression(labelCol=\"label\", featuresCol=\"features\", \n",
    "                        maxIter=50, regParam=0.01)\n",
    "\n",
    "# print if a label is Nan or Null\n",
    "numericTrain = numericTrain.filter(numericTrain.label.isNotNull())\n",
    "\n",
    "model = lr.fit(numericTrain)\n",
    "print (\"Training Done\")"
   ]
  },
  {
   "cell_type": "code",
   "execution_count": 26,
   "metadata": {},
   "outputs": [
    {
     "name": "stdout",
     "output_type": "stream",
     "text": [
      "+--------------------+----------+--------------------+--------------------+--------------------+\n",
      "|              Review|true_label|      SentimentWords|     MeaningfulWords|            features|\n",
      "+--------------------+----------+--------------------+--------------------+--------------------+\n",
      "|$239 as the speci...|         0|[$239, as, the, s...|[$239, special, r...|(262144,[2325,456...|\n",
      "|$399 / night for ...|         0|[$399, /, night, ...|[$399, /, night, ...|(262144,[9129,126...|\n",
      "+--------------------+----------+--------------------+--------------------+--------------------+\n",
      "only showing top 2 rows\n",
      "\n"
     ]
    }
   ],
   "source": [
    "tokenizedTest = tokenizer.transform(test)\n",
    "SwRemovedTest = swr.transform(tokenizedTest)\n",
    "numericTest = hashTF.transform(SwRemovedTest)\n",
    "numericTest.show(truncate=True, n=2)"
   ]
  },
  {
   "cell_type": "code",
   "execution_count": 27,
   "metadata": {},
   "outputs": [],
   "source": [
    "#Prediction\n",
    "raw_prediction = model.transform(numericTest)"
   ]
  },
  {
   "cell_type": "code",
   "execution_count": 28,
   "metadata": {},
   "outputs": [
    {
     "name": "stdout",
     "output_type": "stream",
     "text": [
      "+-----------------------------------+----------+----------+\n",
      "|                    MeaningfulWords|prediction|true_label|\n",
      "+-----------------------------------+----------+----------+\n",
      "|               [$239, special, r...|       0.0|         0|\n",
      "|               [$399, /, night, ...|       0.0|         0|\n",
      "|               [****spg, gold***...|       0.0|         2|\n",
      "|[*ホテルの外観やロビーは歴史が感...|       2.0|         2|\n",
      "|               [-, large, room, ...|       2.0|         2|\n",
      "|               [-, traumhaftes, ...|       2.0|         2|\n",
      "|               [-$40, valet, par...|       0.0|         0|\n",
      "|               [-contrary, aamc,...|       2.0|         0|\n",
      "|               [.., für, ein, ho...|       2.0|         0|\n",
      "|               [..., much, hotel...|       2.0|         0|\n",
      "+-----------------------------------+----------+----------+\n",
      "only showing top 10 rows\n",
      "\n"
     ]
    },
    {
     "name": "stderr",
     "output_type": "stream",
     "text": [
      "24/06/13 12:21:11 WARN DAGScheduler: Broadcasting large task binary with size 4.5 MiB\n"
     ]
    }
   ],
   "source": [
    "Final_prediction = raw_prediction.select(\"MeaningfulWords\", \"prediction\", \"true_label\")\n",
    "Final_prediction.show(n=10, truncate = True)"
   ]
  },
  {
   "cell_type": "code",
   "execution_count": 29,
   "metadata": {},
   "outputs": [
    {
     "name": "stdout",
     "output_type": "stream",
     "text": [
      "+-----+-----+\n",
      "|Label|count|\n",
      "+-----+-----+\n",
      "|    2|28785|\n",
      "|    0| 8130|\n",
      "| NULL|    7|\n",
      "+-----+-----+\n",
      "\n"
     ]
    }
   ],
   "source": [
    "from pyspark.sql.functions import col\n",
    "data.groupBy(\"Label\").count().orderBy(col(\"count\").desc()).show()"
   ]
  },
  {
   "cell_type": "code",
   "execution_count": 30,
   "metadata": {},
   "outputs": [
    {
     "name": "stderr",
     "output_type": "stream",
     "text": [
      "24/06/13 12:21:12 WARN DAGScheduler: Broadcasting large task binary with size 4.5 MiB\n",
      "[Stage 85:>                                                         (0 + 1) / 1]\r"
     ]
    },
    {
     "name": "stdout",
     "output_type": "stream",
     "text": [
      "Accuracy Score is: 87.26227938158435 %\n"
     ]
    },
    {
     "name": "stderr",
     "output_type": "stream",
     "text": [
      "                                                                                \r"
     ]
    }
   ],
   "source": [
    "Total_True=Final_prediction.filter(Final_prediction['prediction']==Final_prediction['true_label']).count()\n",
    "Alldata=Final_prediction.count()\n",
    "Accuracy=Total_True/Alldata\n",
    "print(\"Accuracy Score is:\", Accuracy*100, '%')"
   ]
  },
  {
   "cell_type": "code",
   "execution_count": 31,
   "metadata": {},
   "outputs": [],
   "source": [
    "# ## remove the output_data, output_data2, location directories, output_data.txt, output_data2.txt, and final_scores.csv files\n",
    "# shutil.rmtree('output_data')\n",
    "# os.remove('merged_data.txt')\n",
    "# os.remove('final_scores.csv')\n",
    "# os.remove('review_sentiments.csv')\n",
    "# print(\"All files and directories have been removed...\")"
   ]
  }
 ],
 "metadata": {
  "kernelspec": {
   "display_name": "xai",
   "language": "python",
   "name": "python3"
  },
  "language_info": {
   "codemirror_mode": {
    "name": "ipython",
    "version": 3
   },
   "file_extension": ".py",
   "mimetype": "text/x-python",
   "name": "python",
   "nbconvert_exporter": "python",
   "pygments_lexer": "ipython3",
   "version": "3.10.14"
  }
 },
 "nbformat": 4,
 "nbformat_minor": 2
}
